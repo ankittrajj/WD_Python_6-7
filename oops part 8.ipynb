{
 "cells": [
  {
   "cell_type": "code",
   "execution_count": 13,
   "id": "98524dd0",
   "metadata": {},
   "outputs": [
    {
     "name": "stdout",
     "output_type": "stream",
     "text": [
      "speed is normal\n"
     ]
    },
    {
     "ename": "TypeError",
     "evalue": "Can't instantiate abstract class car3 with abstract method speed",
     "output_type": "error",
     "traceback": [
      "\u001b[1;31m---------------------------------------------------------------------------\u001b[0m",
      "\u001b[1;31mTypeError\u001b[0m                                 Traceback (most recent call last)",
      "\u001b[1;32m~\\AppData\\Local\\Temp/ipykernel_10776/1667551252.py\u001b[0m in \u001b[0;36m<module>\u001b[1;34m\u001b[0m\n\u001b[0;32m     22\u001b[0m \u001b[0mc\u001b[0m \u001b[1;33m=\u001b[0m \u001b[0mcar4\u001b[0m\u001b[1;33m(\u001b[0m\u001b[1;33m)\u001b[0m\u001b[1;33m\u001b[0m\u001b[1;33m\u001b[0m\u001b[0m\n\u001b[0;32m     23\u001b[0m \u001b[0mc\u001b[0m\u001b[1;33m.\u001b[0m\u001b[0mspeed3\u001b[0m\u001b[1;33m(\u001b[0m\u001b[1;33m)\u001b[0m\u001b[1;33m\u001b[0m\u001b[1;33m\u001b[0m\u001b[0m\n\u001b[1;32m---> 24\u001b[1;33m \u001b[0mc\u001b[0m \u001b[1;33m=\u001b[0m \u001b[0mcar3\u001b[0m\u001b[1;33m(\u001b[0m\u001b[1;33m)\u001b[0m\u001b[1;33m\u001b[0m\u001b[1;33m\u001b[0m\u001b[0m\n\u001b[0m\u001b[0;32m     25\u001b[0m \u001b[0mc\u001b[0m\u001b[1;33m.\u001b[0m\u001b[0mspeed2\u001b[0m\u001b[1;33m(\u001b[0m\u001b[1;33m)\u001b[0m\u001b[1;33m\u001b[0m\u001b[1;33m\u001b[0m\u001b[0m\n\u001b[0;32m     26\u001b[0m \u001b[1;33m\u001b[0m\u001b[0m\n",
      "\u001b[1;31mTypeError\u001b[0m: Can't instantiate abstract class car3 with abstract method speed"
     ]
    }
   ],
   "source": [
    "#abstraction -----> code hide / hiding the complexcity of code\n",
    "# switch board----> on/off----> circuit.\n",
    "\n",
    "#abstraction----->\n",
    "from abc import ABC,abstractmethod\n",
    "class car1(ABC):\n",
    "    @abstractmethod\n",
    "    def speed(self):\n",
    "        pass\n",
    "class car2(car1):\n",
    "    def speed1(self):\n",
    "        print(\"speed is 30\")\n",
    "        \n",
    "class car3(car2):\n",
    "    def speed2(self):\n",
    "        print(\"speed is 40\")\n",
    "        \n",
    "class car4:\n",
    "    def speed3(self):\n",
    "        print(\"speed is normal\")\n",
    "\n",
    "c = car4()\n",
    "c.speed3()\n",
    "c = car3()\n",
    "c.speed2()\n",
    "        \n",
    "        "
   ]
  },
  {
   "cell_type": "code",
   "execution_count": null,
   "id": "eed5c4fa",
   "metadata": {},
   "outputs": [],
   "source": [
    "#1.create a class with instance attribute.\n",
    "#2.create a mobile class with a variable and try to get the output through\n",
    "# object.\n",
    "#3.Define polymorphism with its concept.\n",
    "#4.wap and give the example of overloading & overriding.\n",
    "#5.create a multilevel inheritance with the help of constructor.\n",
    "# 6. Wap to make a class having property that must have same name \n",
    "# with same values.\n",
    "# 7.wap to make a class having property that must be of different name \n",
    "# but with same value.\n",
    "# 8.wap to showcase the use of super keyword and why it is essential.\n",
    "# 9.Determine a school bus having a class of automobile having the \n",
    "# instance of automobile class and make a multilevel inheritance with the \n",
    "# use of super keyword."
   ]
  }
 ],
 "metadata": {
  "kernelspec": {
   "display_name": "Python 3 (ipykernel)",
   "language": "python",
   "name": "python3"
  },
  "language_info": {
   "codemirror_mode": {
    "name": "ipython",
    "version": 3
   },
   "file_extension": ".py",
   "mimetype": "text/x-python",
   "name": "python",
   "nbconvert_exporter": "python",
   "pygments_lexer": "ipython3",
   "version": "3.9.7"
  }
 },
 "nbformat": 4,
 "nbformat_minor": 5
}
