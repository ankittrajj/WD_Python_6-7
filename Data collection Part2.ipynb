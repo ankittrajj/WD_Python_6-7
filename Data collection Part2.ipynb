{
 "cells": [
  {
   "cell_type": "code",
   "execution_count": 1,
   "id": "6856446c",
   "metadata": {},
   "outputs": [
    {
     "name": "stdout",
     "output_type": "stream",
     "text": [
      "B -----> lived\n",
      "Not P \n"
     ]
    }
   ],
   "source": [
    "#palindrome\n",
    "a='devil'\n",
    "b= ''\n",
    "for i in a:\n",
    "#     print(\"I----->\",i)\n",
    "    b=i+b\n",
    "print(\"B ----->\",b)\n",
    "if a==b:\n",
    "    print(\"Palindrome\")\n",
    "else:\n",
    "    print('Not P ')\n",
    "    "
   ]
  },
  {
   "cell_type": "code",
   "execution_count": 2,
   "id": "5c88eb52",
   "metadata": {},
   "outputs": [
    {
     "name": "stdout",
     "output_type": "stream",
     "text": [
      "xyzxyzxyz\n"
     ]
    }
   ],
   "source": [
    "b='xyz'\n",
    "i=''\n",
    "for x in b:\n",
    "    i = i+b\n",
    "print(i)"
   ]
  },
  {
   "cell_type": "code",
   "execution_count": 3,
   "id": "f1c7dbde",
   "metadata": {},
   "outputs": [],
   "source": [
    "a = [89,67,45,90,99,23,67,1,-9,34]\n",
    "a.sort()"
   ]
  },
  {
   "cell_type": "code",
   "execution_count": 4,
   "id": "d89636cc",
   "metadata": {},
   "outputs": [
    {
     "data": {
      "text/plain": [
       "[-9, 1, 23, 34, 45, 67, 67, 89, 90, 99]"
      ]
     },
     "execution_count": 4,
     "metadata": {},
     "output_type": "execute_result"
    }
   ],
   "source": [
    "a"
   ]
  },
  {
   "cell_type": "code",
   "execution_count": 5,
   "id": "5e99d2bf",
   "metadata": {},
   "outputs": [],
   "source": [
    "a = [89,67,45,90,99,23,67,1,-9,34]\n",
    "a.sort(reverse=True)"
   ]
  },
  {
   "cell_type": "code",
   "execution_count": 6,
   "id": "c87cd3e8",
   "metadata": {},
   "outputs": [
    {
     "data": {
      "text/plain": [
       "[99, 90, 89, 67, 67, 45, 34, 23, 1, -9]"
      ]
     },
     "execution_count": 6,
     "metadata": {},
     "output_type": "execute_result"
    }
   ],
   "source": [
    "a"
   ]
  },
  {
   "cell_type": "code",
   "execution_count": 7,
   "id": "a23391d5",
   "metadata": {},
   "outputs": [],
   "source": [
    "# reverse\n",
    "a = [89,67,45,90,99,23,67,1,-9,34]\n",
    "a.reverse()\n"
   ]
  },
  {
   "cell_type": "code",
   "execution_count": 8,
   "id": "0830ab79",
   "metadata": {},
   "outputs": [
    {
     "data": {
      "text/plain": [
       "[34, -9, 1, 67, 23, 99, 90, 45, 67, 89]"
      ]
     },
     "execution_count": 8,
     "metadata": {},
     "output_type": "execute_result"
    }
   ],
   "source": [
    "a"
   ]
  },
  {
   "cell_type": "code",
   "execution_count": 9,
   "id": "f0044ed4",
   "metadata": {},
   "outputs": [],
   "source": [
    "# append\n",
    "a = [89,67,45,90,99,23,67,1,-9,34]\n",
    "a.append(100)\n"
   ]
  },
  {
   "cell_type": "code",
   "execution_count": 10,
   "id": "ad3a26df",
   "metadata": {},
   "outputs": [
    {
     "data": {
      "text/plain": [
       "[89, 67, 45, 90, 99, 23, 67, 1, -9, 34, 100]"
      ]
     },
     "execution_count": 10,
     "metadata": {},
     "output_type": "execute_result"
    }
   ],
   "source": [
    "a"
   ]
  },
  {
   "cell_type": "code",
   "execution_count": 11,
   "id": "b7e05ac1",
   "metadata": {},
   "outputs": [],
   "source": [
    "#insert\n",
    "x = [89, 67, 45, 90, 99, 23, 67, 1, -9, 34, 100]\n",
    "x.insert(0,44)"
   ]
  },
  {
   "cell_type": "code",
   "execution_count": 12,
   "id": "e5a0f69f",
   "metadata": {},
   "outputs": [
    {
     "data": {
      "text/plain": [
       "[44, 89, 67, 45, 90, 99, 23, 67, 1, -9, 34, 100]"
      ]
     },
     "execution_count": 12,
     "metadata": {},
     "output_type": "execute_result"
    }
   ],
   "source": [
    "x"
   ]
  },
  {
   "cell_type": "code",
   "execution_count": 13,
   "id": "d5668830",
   "metadata": {},
   "outputs": [],
   "source": [
    "x.insert(5,28)"
   ]
  },
  {
   "cell_type": "code",
   "execution_count": 14,
   "id": "ae4293bb",
   "metadata": {},
   "outputs": [
    {
     "data": {
      "text/plain": [
       "[44, 89, 67, 45, 90, 28, 99, 23, 67, 1, -9, 34, 100]"
      ]
     },
     "execution_count": 14,
     "metadata": {},
     "output_type": "execute_result"
    }
   ],
   "source": [
    "x"
   ]
  },
  {
   "cell_type": "code",
   "execution_count": 15,
   "id": "331bdd3e",
   "metadata": {},
   "outputs": [],
   "source": [
    "#pop,remove\n",
    "s = [44, 89, 67, 45, 90, 28, 99, 23, 67, 1, -9, 34, 100]"
   ]
  },
  {
   "cell_type": "code",
   "execution_count": 16,
   "id": "841f2e71",
   "metadata": {},
   "outputs": [
    {
     "data": {
      "text/plain": [
       "44"
      ]
     },
     "execution_count": 16,
     "metadata": {},
     "output_type": "execute_result"
    }
   ],
   "source": [
    "s.pop(0)"
   ]
  },
  {
   "cell_type": "code",
   "execution_count": 17,
   "id": "2311133f",
   "metadata": {},
   "outputs": [
    {
     "data": {
      "text/plain": [
       "[89, 67, 45, 90, 28, 99, 23, 67, 1, -9, 34, 100]"
      ]
     },
     "execution_count": 17,
     "metadata": {},
     "output_type": "execute_result"
    }
   ],
   "source": [
    "s"
   ]
  },
  {
   "cell_type": "code",
   "execution_count": 18,
   "id": "eec1e489",
   "metadata": {},
   "outputs": [
    {
     "data": {
      "text/plain": [
       "[89, 67, 45, 90, 28, 99, 23, 67, 1, -9, 34, 100]"
      ]
     },
     "execution_count": 18,
     "metadata": {},
     "output_type": "execute_result"
    }
   ],
   "source": [
    "#remove\n",
    "s"
   ]
  },
  {
   "cell_type": "code",
   "execution_count": 19,
   "id": "669d028f",
   "metadata": {},
   "outputs": [],
   "source": [
    "s.remove(-9)"
   ]
  },
  {
   "cell_type": "code",
   "execution_count": 20,
   "id": "8e0a3c30",
   "metadata": {},
   "outputs": [
    {
     "data": {
      "text/plain": [
       "[89, 67, 45, 90, 28, 99, 23, 67, 1, 34, 100]"
      ]
     },
     "execution_count": 20,
     "metadata": {},
     "output_type": "execute_result"
    }
   ],
   "source": [
    "s"
   ]
  },
  {
   "cell_type": "markdown",
   "id": "34004306",
   "metadata": {},
   "source": [
    "# Tuple"
   ]
  },
  {
   "cell_type": "code",
   "execution_count": 21,
   "id": "6bb993a7",
   "metadata": {},
   "outputs": [
    {
     "data": {
      "text/plain": [
       "(34, 56, 78, 90)"
      ]
     },
     "execution_count": 21,
     "metadata": {},
     "output_type": "execute_result"
    }
   ],
   "source": [
    "# how to create a tuple\n",
    "a = (34,56,78,90)\n",
    "a"
   ]
  },
  {
   "cell_type": "code",
   "execution_count": 22,
   "id": "c126b06c",
   "metadata": {},
   "outputs": [
    {
     "data": {
      "text/plain": [
       "tuple"
      ]
     },
     "execution_count": 22,
     "metadata": {},
     "output_type": "execute_result"
    }
   ],
   "source": [
    "type(a)"
   ]
  },
  {
   "cell_type": "code",
   "execution_count": 23,
   "id": "097f46dd",
   "metadata": {},
   "outputs": [
    {
     "data": {
      "text/plain": [
       "('ram', 'abc', 'def', '123')"
      ]
     },
     "execution_count": 23,
     "metadata": {},
     "output_type": "execute_result"
    }
   ],
   "source": [
    "a = ('ram','abc','def','123')\n",
    "a"
   ]
  },
  {
   "cell_type": "code",
   "execution_count": 24,
   "id": "6a52f0d6",
   "metadata": {},
   "outputs": [
    {
     "data": {
      "text/plain": [
       "tuple"
      ]
     },
     "execution_count": 24,
     "metadata": {},
     "output_type": "execute_result"
    }
   ],
   "source": [
    "type(a)"
   ]
  },
  {
   "cell_type": "code",
   "execution_count": 25,
   "id": "7b0e2a36",
   "metadata": {},
   "outputs": [
    {
     "data": {
      "text/plain": [
       "(12, 34, 56, 'ram', 'abc', 'def', '123', 78.9, 45.8, True, 12, 34)"
      ]
     },
     "execution_count": 25,
     "metadata": {},
     "output_type": "execute_result"
    }
   ],
   "source": [
    "x= (12,34,56,'ram','abc','def','123',78.90,45.8,True,12,34)\n",
    "x"
   ]
  },
  {
   "cell_type": "code",
   "execution_count": 26,
   "id": "5273b7f6",
   "metadata": {},
   "outputs": [
    {
     "data": {
      "text/plain": [
       "tuple"
      ]
     },
     "execution_count": 26,
     "metadata": {},
     "output_type": "execute_result"
    }
   ],
   "source": [
    "type(x)"
   ]
  },
  {
   "cell_type": "code",
   "execution_count": 27,
   "id": "c213c434",
   "metadata": {},
   "outputs": [
    {
     "data": {
      "text/plain": [
       "(12, 34, 56, 'ram', 'abc', 'def', '123', 78.9, 45.8, True, 12, 34)"
      ]
     },
     "execution_count": 27,
     "metadata": {},
     "output_type": "execute_result"
    }
   ],
   "source": [
    "#slicing   indexing\n",
    "x"
   ]
  },
  {
   "cell_type": "code",
   "execution_count": 28,
   "id": "382f7352",
   "metadata": {},
   "outputs": [
    {
     "data": {
      "text/plain": [
       "12"
      ]
     },
     "execution_count": 28,
     "metadata": {},
     "output_type": "execute_result"
    }
   ],
   "source": [
    "x[0]"
   ]
  },
  {
   "cell_type": "code",
   "execution_count": 29,
   "id": "6a5470bd",
   "metadata": {},
   "outputs": [
    {
     "data": {
      "text/plain": [
       "(12, 34, 56, 'ram', 'abc')"
      ]
     },
     "execution_count": 29,
     "metadata": {},
     "output_type": "execute_result"
    }
   ],
   "source": [
    "x[0:5]"
   ]
  },
  {
   "cell_type": "code",
   "execution_count": 31,
   "id": "94638090",
   "metadata": {},
   "outputs": [
    {
     "ename": "TypeError",
     "evalue": "'tuple' object does not support item assignment",
     "output_type": "error",
     "traceback": [
      "\u001b[1;31m---------------------------------------------------------------------------\u001b[0m",
      "\u001b[1;31mTypeError\u001b[0m                                 Traceback (most recent call last)",
      "\u001b[1;32m~\\AppData\\Local\\Temp/ipykernel_12396/1154659003.py\u001b[0m in \u001b[0;36m<module>\u001b[1;34m\u001b[0m\n\u001b[0;32m      1\u001b[0m \u001b[1;31m#mutable or not?\u001b[0m\u001b[1;33m\u001b[0m\u001b[1;33m\u001b[0m\u001b[0m\n\u001b[1;32m----> 2\u001b[1;33m \u001b[0mx\u001b[0m\u001b[1;33m[\u001b[0m\u001b[1;36m0\u001b[0m\u001b[1;33m]\u001b[0m\u001b[1;33m=\u001b[0m\u001b[1;36m100\u001b[0m\u001b[1;33m\u001b[0m\u001b[1;33m\u001b[0m\u001b[0m\n\u001b[0m",
      "\u001b[1;31mTypeError\u001b[0m: 'tuple' object does not support item assignment"
     ]
    }
   ],
   "source": [
    "#mutable or not?\n",
    "x[0]=100"
   ]
  },
  {
   "cell_type": "code",
   "execution_count": 33,
   "id": "b2666daf",
   "metadata": {},
   "outputs": [],
   "source": [
    "#index\n",
    "# count\n",
    "a = '$%%^^^&#$@','amit',1,23,89"
   ]
  },
  {
   "cell_type": "code",
   "execution_count": 34,
   "id": "ada6db07",
   "metadata": {},
   "outputs": [
    {
     "data": {
      "text/plain": [
       "('$%%^^^&#$@', 'amit', 1, 23, 89)"
      ]
     },
     "execution_count": 34,
     "metadata": {},
     "output_type": "execute_result"
    }
   ],
   "source": [
    "a"
   ]
  },
  {
   "cell_type": "code",
   "execution_count": 35,
   "id": "0f67e50e",
   "metadata": {},
   "outputs": [
    {
     "data": {
      "text/plain": [
       "tuple"
      ]
     },
     "execution_count": 35,
     "metadata": {},
     "output_type": "execute_result"
    }
   ],
   "source": [
    "type(a)"
   ]
  },
  {
   "cell_type": "code",
   "execution_count": 36,
   "id": "e20d7efd",
   "metadata": {},
   "outputs": [],
   "source": [
    "#index,count\n",
    "x = (12, 34, 56, 'ram', 'abc', 'def', '123', 78.9, 45.8, True, 12, 34)"
   ]
  },
  {
   "cell_type": "code",
   "execution_count": 37,
   "id": "6401edc1",
   "metadata": {},
   "outputs": [
    {
     "data": {
      "text/plain": [
       "(12, 34, 56, 'ram', 'abc', 'def', '123', 78.9, 45.8, True, 12, 34)"
      ]
     },
     "execution_count": 37,
     "metadata": {},
     "output_type": "execute_result"
    }
   ],
   "source": [
    "x"
   ]
  },
  {
   "cell_type": "code",
   "execution_count": 44,
   "id": "e577f897",
   "metadata": {},
   "outputs": [
    {
     "data": {
      "text/plain": [
       "4"
      ]
     },
     "execution_count": 44,
     "metadata": {},
     "output_type": "execute_result"
    }
   ],
   "source": [
    "x.index('abc')"
   ]
  },
  {
   "cell_type": "code",
   "execution_count": 45,
   "id": "f8459815",
   "metadata": {},
   "outputs": [
    {
     "data": {
      "text/plain": [
       "(12, 34, 56, 'ram', 'abc', 'def', '123', 78.9, 45.8, True, 12, 34)"
      ]
     },
     "execution_count": 45,
     "metadata": {},
     "output_type": "execute_result"
    }
   ],
   "source": [
    "#count\n",
    "x"
   ]
  },
  {
   "cell_type": "code",
   "execution_count": 55,
   "id": "89579ea1",
   "metadata": {},
   "outputs": [
    {
     "data": {
      "text/plain": [
       "1"
      ]
     },
     "execution_count": 55,
     "metadata": {},
     "output_type": "execute_result"
    }
   ],
   "source": [
    "x.count('ram')"
   ]
  },
  {
   "cell_type": "code",
   "execution_count": 56,
   "id": "9e1ecab6",
   "metadata": {},
   "outputs": [],
   "source": [
    "y = (False,12, 34, 56, 'ram', 'abc', 'def', '123', 78.9, 45.8, True, 12, 34)"
   ]
  },
  {
   "cell_type": "code",
   "execution_count": 57,
   "id": "7cd9e5f9",
   "metadata": {},
   "outputs": [
    {
     "data": {
      "text/plain": [
       "(False, 12, 34, 56, 'ram', 'abc', 'def', '123', 78.9, 45.8, True, 12, 34)"
      ]
     },
     "execution_count": 57,
     "metadata": {},
     "output_type": "execute_result"
    }
   ],
   "source": [
    "y"
   ]
  },
  {
   "cell_type": "code",
   "execution_count": 58,
   "id": "3005c540",
   "metadata": {},
   "outputs": [
    {
     "data": {
      "text/plain": [
       "1"
      ]
     },
     "execution_count": 58,
     "metadata": {},
     "output_type": "execute_result"
    }
   ],
   "source": [
    "y.count(0)"
   ]
  },
  {
   "cell_type": "code",
   "execution_count": 59,
   "id": "cb287046",
   "metadata": {},
   "outputs": [],
   "source": [
    "y =(False, 12, 34, 56, 'ram', 'abc', 'def', '123', 78.9, 45.8, True, 12, 34,0)"
   ]
  },
  {
   "cell_type": "code",
   "execution_count": 62,
   "id": "6155a888",
   "metadata": {},
   "outputs": [
    {
     "data": {
      "text/plain": [
       "2"
      ]
     },
     "execution_count": 62,
     "metadata": {},
     "output_type": "execute_result"
    }
   ],
   "source": [
    "y.count(12)"
   ]
  },
  {
   "cell_type": "code",
   "execution_count": 63,
   "id": "eb65de1b",
   "metadata": {},
   "outputs": [],
   "source": [
    "#wap to strore 5 items in a list entered by the user.\n",
    "\n",
    "# wap to display marks of 5 students and also display them in\n",
    "# sorted manner.\n",
    "\n",
    "# Check if tuple is mutable or not?\n",
    "\n",
    "# wap to sum a list of 5 no.?\n",
    "\n",
    "#wap to count no. of 5 in a tuple\n",
    "# tuple = (5,-5,55,555,50,-555,-50)\n",
    "\n",
    "# Check if the item is present in a list or not?\n",
    "# item = ['python','java','sql']"
   ]
  },
  {
   "cell_type": "code",
   "execution_count": 65,
   "id": "ae447531",
   "metadata": {},
   "outputs": [
    {
     "name": "stdout",
     "output_type": "stream",
     "text": [
      "Enter the first itemapple\n",
      "Enter the second itemmango\n",
      "Enter the third itemiphone\n",
      "['apple', 'mango', 'iphone']\n"
     ]
    }
   ],
   "source": [
    "#wap to strore 5 items in a list entered by the user.\n",
    "a = input(\"Enter the first item\")\n",
    "b = input(\"Enter the second item\")\n",
    "c = input(\"Enter the third item\")\n",
    "x = [a,b,c]\n",
    "print(x)"
   ]
  },
  {
   "cell_type": "code",
   "execution_count": 66,
   "id": "1af8fdc8",
   "metadata": {},
   "outputs": [
    {
     "name": "stdout",
     "output_type": "stream",
     "text": [
      "enter the 1 item in the listq\n",
      "enter the 2 item in the listw\n",
      "enter the 3 item in the liste\n",
      "enter the 4 item in the listr\n",
      "enter the 5 item in the listt\n",
      "{'e', 'w', 'q', 'r', 't'}\n"
     ]
    }
   ],
   "source": [
    "a=str(input(\"enter the 1 item in the list\"))\n",
    "b=str(input(\"enter the 2 item in the list\"))\n",
    "c=str(input(\"enter the 3 item in the list\"))\n",
    "d=str(input(\"enter the 4 item in the list\"))\n",
    "e=str(input(\"enter the 5 item in the list\"))\n",
    "list={a,b,c,d,e}\n",
    "print(list)"
   ]
  },
  {
   "cell_type": "code",
   "execution_count": 67,
   "id": "c341fcc1",
   "metadata": {},
   "outputs": [
    {
     "data": {
      "text/plain": [
       "set"
      ]
     },
     "execution_count": 67,
     "metadata": {},
     "output_type": "execute_result"
    }
   ],
   "source": [
    "type(list)"
   ]
  },
  {
   "cell_type": "code",
   "execution_count": 68,
   "id": "ecdf797d",
   "metadata": {},
   "outputs": [
    {
     "data": {
      "text/plain": [
       "list"
      ]
     },
     "execution_count": 68,
     "metadata": {},
     "output_type": "execute_result"
    }
   ],
   "source": [
    "type(x)"
   ]
  },
  {
   "cell_type": "code",
   "execution_count": 70,
   "id": "6f316092",
   "metadata": {},
   "outputs": [
    {
     "name": "stdout",
     "output_type": "stream",
     "text": [
      "Enter the first marks45\n",
      "Enter the second marks90\n",
      "Enter the third marks12\n",
      "before sorting [45, 90, 12]\n",
      "after sorting [12, 45, 90]\n"
     ]
    }
   ],
   "source": [
    "# wap to display marks of 5 students and also display them in\n",
    "# sorted manner.\n",
    "a = int(input(\"Enter the first marks\"))\n",
    "b = int(input(\"Enter the second marks\"))\n",
    "c = int(input(\"Enter the third marks\"))\n",
    "x = [a,b,c]\n",
    "print(\"before sorting\",x)\n",
    "x.sort()\n",
    "print(\"after sorting\",x)\n"
   ]
  },
  {
   "cell_type": "code",
   "execution_count": 72,
   "id": "4a8c7db8",
   "metadata": {},
   "outputs": [
    {
     "name": "stdout",
     "output_type": "stream",
     "text": [
      "[60, 70, 80, 90, 50, 40]\n",
      "[10, 70, 80, 90, 50, 40]\n"
     ]
    }
   ],
   "source": [
    "tup=[60,70,80,90,50,40]\n",
    "print(tup)\n",
    "tup[0]=10\n",
    "print(tup)\n"
   ]
  },
  {
   "cell_type": "code",
   "execution_count": 73,
   "id": "ecea2eb3",
   "metadata": {},
   "outputs": [
    {
     "name": "stdout",
     "output_type": "stream",
     "text": [
      "(10, 80, 78)\n"
     ]
    }
   ],
   "source": [
    "a = 10,80,78\n",
    "print(a)"
   ]
  },
  {
   "cell_type": "code",
   "execution_count": 74,
   "id": "5b9237f6",
   "metadata": {},
   "outputs": [
    {
     "data": {
      "text/plain": [
       "10"
      ]
     },
     "execution_count": 74,
     "metadata": {},
     "output_type": "execute_result"
    }
   ],
   "source": [
    "a[0]"
   ]
  },
  {
   "cell_type": "code",
   "execution_count": 75,
   "id": "570ab29e",
   "metadata": {},
   "outputs": [
    {
     "ename": "TypeError",
     "evalue": "'tuple' object does not support item assignment",
     "output_type": "error",
     "traceback": [
      "\u001b[1;31m---------------------------------------------------------------------------\u001b[0m",
      "\u001b[1;31mTypeError\u001b[0m                                 Traceback (most recent call last)",
      "\u001b[1;32m~\\AppData\\Local\\Temp/ipykernel_12396/4203383969.py\u001b[0m in \u001b[0;36m<module>\u001b[1;34m\u001b[0m\n\u001b[1;32m----> 1\u001b[1;33m \u001b[0ma\u001b[0m\u001b[1;33m[\u001b[0m\u001b[1;36m0\u001b[0m\u001b[1;33m]\u001b[0m\u001b[1;33m=\u001b[0m\u001b[1;36m12\u001b[0m\u001b[1;33m\u001b[0m\u001b[1;33m\u001b[0m\u001b[0m\n\u001b[0m",
      "\u001b[1;31mTypeError\u001b[0m: 'tuple' object does not support item assignment"
     ]
    }
   ],
   "source": [
    "a[0]=12"
   ]
  },
  {
   "cell_type": "code",
   "execution_count": 80,
   "id": "ea3eff1e",
   "metadata": {},
   "outputs": [
    {
     "name": "stdout",
     "output_type": "stream",
     "text": [
      "y\n"
     ]
    }
   ],
   "source": [
    "# Check if the item is present in a list or not?\n",
    "# item = ['python','java','sql']\n",
    "if item ==['python','java','sql']:\n",
    "    print('y')\n",
    "else:\n",
    "    print('invalid input')\n"
   ]
  },
  {
   "cell_type": "code",
   "execution_count": 81,
   "id": "0da3245e",
   "metadata": {},
   "outputs": [
    {
     "name": "stdout",
     "output_type": "stream",
     "text": [
      "10\n"
     ]
    }
   ],
   "source": [
    "x = [1,2,3,4]\n",
    "add = sum(x)\n",
    "print(add)"
   ]
  },
  {
   "cell_type": "code",
   "execution_count": null,
   "id": "bc08f6ec",
   "metadata": {},
   "outputs": [],
   "source": []
  }
 ],
 "metadata": {
  "kernelspec": {
   "display_name": "Python 3 (ipykernel)",
   "language": "python",
   "name": "python3"
  },
  "language_info": {
   "codemirror_mode": {
    "name": "ipython",
    "version": 3
   },
   "file_extension": ".py",
   "mimetype": "text/x-python",
   "name": "python",
   "nbconvert_exporter": "python",
   "pygments_lexer": "ipython3",
   "version": "3.9.7"
  }
 },
 "nbformat": 4,
 "nbformat_minor": 5
}
