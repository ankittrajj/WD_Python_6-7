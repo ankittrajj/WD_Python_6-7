{
 "cells": [
  {
   "cell_type": "code",
   "execution_count": null,
   "id": "b83ff403",
   "metadata": {},
   "outputs": [],
   "source": [
    "a=input(\"Enter the number\")\n",
    "print(a)"
   ]
  },
  {
   "cell_type": "code",
   "execution_count": null,
   "id": "aa03698f",
   "metadata": {},
   "outputs": [],
   "source": [
    "#wap to add two num with the help of user input.\n",
    "a = int(input(\"Enter first num : \"))\n",
    "b = int(input(\"Enter second num : \"))\n",
    "c = a+b\n",
    "print(c)\n"
   ]
  },
  {
   "cell_type": "code",
   "execution_count": null,
   "id": "f47f5e3e",
   "metadata": {},
   "outputs": [],
   "source": [
    "#loop\n",
    "# for loop\n",
    "# while loop\n",
    "\n",
    "# syntax\n",
    "# for i in function:\n",
    "#     print(i)\n",
    "\n",
    "# wap to print 0-10:\n",
    "\n",
    "\n",
    "for i in range(10):\n",
    "    print(i)"
   ]
  },
  {
   "cell_type": "code",
   "execution_count": null,
   "id": "0979713c",
   "metadata": {},
   "outputs": [],
   "source": [
    "# 2-10\n",
    "for i in range(2,10):\n",
    "    print(i)"
   ]
  },
  {
   "cell_type": "code",
   "execution_count": null,
   "id": "43e940f1",
   "metadata": {},
   "outputs": [],
   "source": [
    "# 1-10---->1,3,5,7,9\n",
    "for i in range(1,11,2):\n",
    "    print(i)"
   ]
  },
  {
   "cell_type": "code",
   "execution_count": null,
   "id": "90d4c670",
   "metadata": {},
   "outputs": [],
   "source": [
    "#wap to print odd and even number between 1-50.\n",
    "for i in range(1,150):\n",
    "    if i%2==0:\n",
    "        print(i)"
   ]
  },
  {
   "cell_type": "code",
   "execution_count": null,
   "id": "19ec0076",
   "metadata": {},
   "outputs": [],
   "source": [
    "for i in range(1,51,2):\n",
    "    print(i)"
   ]
  },
  {
   "cell_type": "code",
   "execution_count": null,
   "id": "01808244",
   "metadata": {},
   "outputs": [],
   "source": [
    "for i in range(2,51,2):\n",
    "    print(i)"
   ]
  },
  {
   "cell_type": "code",
   "execution_count": null,
   "id": "fb7666a7",
   "metadata": {},
   "outputs": [],
   "source": [
    "#while----->\n",
    "# 1.initialize\n",
    "# 2.condition\n",
    "# 3.increment/decrement\n",
    "# 1-10\n",
    "\n",
    "x = 0\n",
    "while x<=5:\n",
    "    print(x)\n",
    "#     x=x+1\n",
    "    x+=1\n",
    "#     x++\n"
   ]
  },
  {
   "cell_type": "code",
   "execution_count": null,
   "id": "4a7ddd71",
   "metadata": {},
   "outputs": [],
   "source": [
    "#wap to print number from -30, +30 using while loop \n",
    "# +30 , -30\n",
    "x = -30\n",
    "while(x<=30):\n",
    "    print(x)\n",
    "    x+=1"
   ]
  },
  {
   "cell_type": "code",
   "execution_count": null,
   "id": "f2f2be8d",
   "metadata": {},
   "outputs": [],
   "source": [
    "x=-30\n",
    "while x<30:\n",
    "    print(x)\n",
    "    x=x+1\n"
   ]
  },
  {
   "cell_type": "code",
   "execution_count": null,
   "id": "1d63f61c",
   "metadata": {},
   "outputs": [],
   "source": [
    "while -30>=x<=30:\n",
    "    print(x)\n",
    "    x+=1\n"
   ]
  },
  {
   "cell_type": "code",
   "execution_count": null,
   "id": "4cec9e2d",
   "metadata": {},
   "outputs": [],
   "source": [
    "# -30 30\n",
    "a = -30\n",
    "while a<=30:\n",
    "    print(a)\n",
    "    a+=1"
   ]
  },
  {
   "cell_type": "code",
   "execution_count": null,
   "id": "b885d075",
   "metadata": {},
   "outputs": [],
   "source": [
    "a=30\n",
    "while a>=-30:\n",
    "#     print(a)\n",
    "#     x-=1"
   ]
  },
  {
   "cell_type": "code",
   "execution_count": null,
   "id": "a2bdf45a",
   "metadata": {},
   "outputs": [],
   "source": [
    "30 - ,-30"
   ]
  }
 ],
 "metadata": {
  "kernelspec": {
   "display_name": "Python 3 (ipykernel)",
   "language": "python",
   "name": "python3"
  },
  "language_info": {
   "codemirror_mode": {
    "name": "ipython",
    "version": 3
   },
   "file_extension": ".py",
   "mimetype": "text/x-python",
   "name": "python",
   "nbconvert_exporter": "python",
   "pygments_lexer": "ipython3",
   "version": "3.9.7"
  }
 },
 "nbformat": 4,
 "nbformat_minor": 5
}
