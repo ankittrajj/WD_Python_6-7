{
 "cells": [
  {
   "cell_type": "code",
   "execution_count": 1,
   "id": "ca573869",
   "metadata": {},
   "outputs": [
    {
     "name": "stdout",
     "output_type": "stream",
     "text": [
      "hello\n"
     ]
    }
   ],
   "source": [
    "#create a class with instance attribute.\n",
    "#create a child class that will inherit all the variables & methods from \n",
    "# vechile class.\n",
    "\n",
    "class x:\n",
    "    def att(self,a):\n",
    "        print(a)\n",
    "a =x()\n",
    "a.att('hello')"
   ]
  },
  {
   "cell_type": "code",
   "execution_count": 13,
   "id": "b1134e69",
   "metadata": {},
   "outputs": [
    {
     "data": {
      "text/plain": [
       "10"
      ]
     },
     "execution_count": 13,
     "metadata": {},
     "output_type": "execute_result"
    }
   ],
   "source": [
    "class truck:\n",
    "    a=10\n",
    "    b=1\n",
    "    result = a+b\n",
    "    \n",
    "    def hello(self):\n",
    "        print(\"hello I am in the class\")\n",
    "\n",
    "class truck2(truck):\n",
    "    truck.a\n",
    "    \n",
    "t = truck()\n",
    "t.a\n",
    "# t.result\n",
    "# t.hello()"
   ]
  },
  {
   "cell_type": "code",
   "execution_count": 25,
   "id": "2711cdc0",
   "metadata": {},
   "outputs": [
    {
     "data": {
      "text/plain": [
       "90"
      ]
     },
     "execution_count": 25,
     "metadata": {},
     "output_type": "execute_result"
    }
   ],
   "source": [
    "class a:\n",
    "    def __init__(self,name):\n",
    "        self.name=name\n",
    "        \n",
    "class b(a):\n",
    "    def __init__(self,name,age):\n",
    "        a.__init__(self,name)\n",
    "        self.age=age\n",
    "        \n",
    "class c(b):\n",
    "    def __init__(self,age,name,marks):\n",
    "        b.__init__(self,name,age)\n",
    "        self.marks=marks\n",
    "        \n",
    "        \n",
    "        \n",
    "o = c('A',90,89)\n",
    "o.name"
   ]
  },
  {
   "cell_type": "code",
   "execution_count": 22,
   "id": "d01febba",
   "metadata": {},
   "outputs": [
    {
     "data": {
      "text/plain": [
       "90"
      ]
     },
     "execution_count": 22,
     "metadata": {},
     "output_type": "execute_result"
    }
   ],
   "source": [
    "o.age"
   ]
  },
  {
   "cell_type": "code",
   "execution_count": 26,
   "id": "9693c1b7",
   "metadata": {},
   "outputs": [
    {
     "data": {
      "text/plain": [
       "'B'"
      ]
     },
     "execution_count": 26,
     "metadata": {},
     "output_type": "execute_result"
    }
   ],
   "source": [
    "a = b(\"B\",99)\n",
    "a.name"
   ]
  },
  {
   "cell_type": "code",
   "execution_count": 27,
   "id": "7c690c0c",
   "metadata": {},
   "outputs": [
    {
     "ename": "AttributeError",
     "evalue": "'b' object has no attribute 'marks'",
     "output_type": "error",
     "traceback": [
      "\u001b[1;31m---------------------------------------------------------------------------\u001b[0m",
      "\u001b[1;31mAttributeError\u001b[0m                            Traceback (most recent call last)",
      "\u001b[1;32m~\\AppData\\Local\\Temp/ipykernel_14452/3746107468.py\u001b[0m in \u001b[0;36m<module>\u001b[1;34m\u001b[0m\n\u001b[1;32m----> 1\u001b[1;33m \u001b[0ma\u001b[0m\u001b[1;33m.\u001b[0m\u001b[0mmarks\u001b[0m\u001b[1;33m\u001b[0m\u001b[1;33m\u001b[0m\u001b[0m\n\u001b[0m",
      "\u001b[1;31mAttributeError\u001b[0m: 'b' object has no attribute 'marks'"
     ]
    }
   ],
   "source": [
    "a.marks"
   ]
  },
  {
   "cell_type": "code",
   "execution_count": 32,
   "id": "c881b753",
   "metadata": {},
   "outputs": [
    {
     "ename": "AttributeError",
     "evalue": "'c' object has no attribute 'age'",
     "output_type": "error",
     "traceback": [
      "\u001b[1;31m---------------------------------------------------------------------------\u001b[0m",
      "\u001b[1;31mAttributeError\u001b[0m                            Traceback (most recent call last)",
      "\u001b[1;32m~\\AppData\\Local\\Temp/ipykernel_14452/1378678361.py\u001b[0m in \u001b[0;36m<module>\u001b[1;34m\u001b[0m\n\u001b[0;32m     18\u001b[0m \u001b[0mo\u001b[0m\u001b[1;33m.\u001b[0m\u001b[0mname\u001b[0m\u001b[1;33m\u001b[0m\u001b[1;33m\u001b[0m\u001b[0m\n\u001b[0;32m     19\u001b[0m \u001b[0mo\u001b[0m\u001b[1;33m.\u001b[0m\u001b[0mmarks\u001b[0m\u001b[1;33m\u001b[0m\u001b[1;33m\u001b[0m\u001b[0m\n\u001b[1;32m---> 20\u001b[1;33m \u001b[0mo\u001b[0m\u001b[1;33m.\u001b[0m\u001b[0mage\u001b[0m\u001b[1;33m\u001b[0m\u001b[1;33m\u001b[0m\u001b[0m\n\u001b[0m",
      "\u001b[1;31mAttributeError\u001b[0m: 'c' object has no attribute 'age'"
     ]
    }
   ],
   "source": [
    "class a:\n",
    "    def __init__(self,name):\n",
    "        self.name=name\n",
    "        \n",
    "class b(a):\n",
    "    def __init__(self,name,age):\n",
    "        a.__init__(self,name)\n",
    "        self.age=age\n",
    "        \n",
    "class c(a):\n",
    "    def __init__(self,name,marks):\n",
    "        a.__init__(self,name)\n",
    "        self.marks=marks\n",
    "        \n",
    "        \n",
    "        \n",
    "o = c('A',90)\n",
    "o.name\n",
    "o.marks\n",
    "o.age"
   ]
  },
  {
   "cell_type": "code",
   "execution_count": null,
   "id": "e45611d6",
   "metadata": {},
   "outputs": [],
   "source": []
  }
 ],
 "metadata": {
  "kernelspec": {
   "display_name": "Python 3 (ipykernel)",
   "language": "python",
   "name": "python3"
  },
  "language_info": {
   "codemirror_mode": {
    "name": "ipython",
    "version": 3
   },
   "file_extension": ".py",
   "mimetype": "text/x-python",
   "name": "python",
   "nbconvert_exporter": "python",
   "pygments_lexer": "ipython3",
   "version": "3.9.7"
  }
 },
 "nbformat": 4,
 "nbformat_minor": 5
}
