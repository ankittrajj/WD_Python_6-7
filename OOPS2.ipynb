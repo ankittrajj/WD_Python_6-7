{
 "cells": [
  {
   "cell_type": "code",
   "execution_count": 5,
   "id": "d7e126d4",
   "metadata": {},
   "outputs": [
    {
     "name": "stdout",
     "output_type": "stream",
     "text": [
      "a\n",
      "12\n"
     ]
    }
   ],
   "source": [
    "#wap amd make a class of student and try to get the output of the\n",
    "# students attributes that stored in you student class.\n",
    "\n",
    "class student:\n",
    "    def profile(self,name,age):\n",
    "        print(name)\n",
    "        print(age)\n",
    "\n",
    "s = student()\n",
    "s.profile('a',12)\n",
    "        \n"
   ]
  },
  {
   "cell_type": "code",
   "execution_count": 11,
   "id": "e53fcebd",
   "metadata": {},
   "outputs": [
    {
     "data": {
      "text/plain": [
       "23"
      ]
     },
     "execution_count": 11,
     "metadata": {},
     "output_type": "execute_result"
    }
   ],
   "source": [
    "#constructor\n",
    "class std:\n",
    "    def __init__(self,name,age):\n",
    "        self.name = name\n",
    "        self.age = age\n",
    "        \n",
    "        \n",
    "s = std('x',23)\n",
    "s.name\n",
    "s.age"
   ]
  },
  {
   "cell_type": "code",
   "execution_count": 8,
   "id": "47c8fe1d",
   "metadata": {},
   "outputs": [
    {
     "data": {
      "text/plain": [
       "23"
      ]
     },
     "execution_count": 8,
     "metadata": {},
     "output_type": "execute_result"
    }
   ],
   "source": [
    "s.age"
   ]
  },
  {
   "cell_type": "code",
   "execution_count": 19,
   "id": "76622f8c",
   "metadata": {},
   "outputs": [
    {
     "name": "stdout",
     "output_type": "stream",
     "text": [
      "Speed is ----> 10.0\n"
     ]
    }
   ],
   "source": [
    "#wap to claculate the speed of class bike.\n",
    "class bike:\n",
    "    def __init__(self,dis,time):\n",
    "        self.dis=dis\n",
    "        self.time = time\n",
    "        \n",
    "        \n",
    "    def speed(self):\n",
    "        s = self.dis/self.time\n",
    "        print(\"Speed is ---->\",s)\n",
    "\n",
    "        \n",
    "b = bike(20,2)\n",
    "b.speed()\n",
    "        \n"
   ]
  },
  {
   "cell_type": "code",
   "execution_count": null,
   "id": "1b9d53e2",
   "metadata": {},
   "outputs": [],
   "source": [
    "#wap to obtain the avg. marks of a student in 5 subject"
   ]
  }
 ],
 "metadata": {
  "kernelspec": {
   "display_name": "Python 3 (ipykernel)",
   "language": "python",
   "name": "python3"
  },
  "language_info": {
   "codemirror_mode": {
    "name": "ipython",
    "version": 3
   },
   "file_extension": ".py",
   "mimetype": "text/x-python",
   "name": "python",
   "nbconvert_exporter": "python",
   "pygments_lexer": "ipython3",
   "version": "3.9.7"
  }
 },
 "nbformat": 4,
 "nbformat_minor": 5
}
