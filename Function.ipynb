{
 "cells": [
  {
   "cell_type": "code",
   "execution_count": 2,
   "id": "487c1f74",
   "metadata": {},
   "outputs": [
    {
     "name": "stdout",
     "output_type": "stream",
     "text": [
      "hello from function to the player\n"
     ]
    }
   ],
   "source": [
    "# user -define -function----> dry----> don't repeat yourself\n",
    "# syntax\n",
    "# define the function  function_name():\n",
    "#     print('dtydtyduyf')\n",
    "\n",
    "\n",
    "def player():\n",
    "    print(\"hello from function to the player\")\n",
    "\n",
    "# call the function\n",
    "player()"
   ]
  },
  {
   "cell_type": "code",
   "execution_count": 4,
   "id": "086dff40",
   "metadata": {},
   "outputs": [],
   "source": [
    "def python():\n",
    "    print('Hello python I am Function')"
   ]
  },
  {
   "cell_type": "code",
   "execution_count": 5,
   "id": "009ffbb8",
   "metadata": {},
   "outputs": [
    {
     "name": "stdout",
     "output_type": "stream",
     "text": [
      "Hello python I am Function\n"
     ]
    }
   ],
   "source": [
    "#call the function\n",
    "python()"
   ]
  },
  {
   "cell_type": "code",
   "execution_count": 6,
   "id": "706fcb07",
   "metadata": {},
   "outputs": [
    {
     "name": "stdout",
     "output_type": "stream",
     "text": [
      "10\n"
     ]
    }
   ],
   "source": [
    "#type of function---->\n",
    "# 1.no arg no return\n",
    "# 2.with arg no return\n",
    "# 3.with arg with return\n",
    "# 4.no arg with return\n",
    "\n",
    "# 1.no arg no return\n",
    "def add():\n",
    "    a=9\n",
    "    b=1\n",
    "    c=a+b\n",
    "    print(c)\n",
    "    \n",
    "add()"
   ]
  },
  {
   "cell_type": "code",
   "execution_count": 12,
   "id": "4d60fdf3",
   "metadata": {},
   "outputs": [
    {
     "name": "stdout",
     "output_type": "stream",
     "text": [
      "11\n"
     ]
    }
   ],
   "source": [
    "# 2.with arg no return\n",
    "def add(a,b):\n",
    "    c = a+b\n",
    "    print(c)\n",
    "    \n",
    "add(4,7)"
   ]
  },
  {
   "cell_type": "code",
   "execution_count": 17,
   "id": "50253d87",
   "metadata": {},
   "outputs": [
    {
     "data": {
      "text/plain": [
       "11"
      ]
     },
     "execution_count": 17,
     "metadata": {},
     "output_type": "execute_result"
    }
   ],
   "source": [
    "#3. with arg with return\n",
    "def add(x,y):\n",
    "    z = x+y\n",
    "    return z\n",
    "    \n",
    "add(3,8)"
   ]
  },
  {
   "cell_type": "code",
   "execution_count": null,
   "id": "ccbd07d9",
   "metadata": {},
   "outputs": [],
   "source": [
    "#wap to calculate the total marks & percetage of a student.\n",
    "#wap to calculate total salary of emp.\n",
    "# monthly salary -----> 20000.\n",
    "\n",
    "def emp(monthly_sal):\n",
    "    total_sal = monthly_sal*12\n",
    "    return total_sal\n",
    "\n",
    "emp(20)\n",
    "    "
   ]
  },
  {
   "cell_type": "code",
   "execution_count": null,
   "id": "6f5b78b6",
   "metadata": {},
   "outputs": [],
   "source": []
  },
  {
   "cell_type": "code",
   "execution_count": null,
   "id": "ecec8bf0",
   "metadata": {},
   "outputs": [],
   "source": []
  },
  {
   "cell_type": "code",
   "execution_count": null,
   "id": "4e94730b",
   "metadata": {},
   "outputs": [],
   "source": []
  },
  {
   "cell_type": "code",
   "execution_count": null,
   "id": "da8f9fde",
   "metadata": {},
   "outputs": [],
   "source": []
  },
  {
   "cell_type": "code",
   "execution_count": null,
   "id": "d9c345b4",
   "metadata": {},
   "outputs": [],
   "source": []
  },
  {
   "cell_type": "code",
   "execution_count": null,
   "id": "5345fbdc",
   "metadata": {},
   "outputs": [],
   "source": []
  },
  {
   "cell_type": "code",
   "execution_count": null,
   "id": "3e47b443",
   "metadata": {},
   "outputs": [],
   "source": []
  },
  {
   "cell_type": "code",
   "execution_count": null,
   "id": "9ea6ccd0",
   "metadata": {},
   "outputs": [],
   "source": []
  },
  {
   "cell_type": "code",
   "execution_count": null,
   "id": "74c80c28",
   "metadata": {},
   "outputs": [],
   "source": []
  },
  {
   "cell_type": "code",
   "execution_count": null,
   "id": "4f2af335",
   "metadata": {},
   "outputs": [],
   "source": []
  },
  {
   "cell_type": "code",
   "execution_count": null,
   "id": "106a5d17",
   "metadata": {},
   "outputs": [],
   "source": []
  },
  {
   "cell_type": "code",
   "execution_count": null,
   "id": "55ab9c43",
   "metadata": {},
   "outputs": [],
   "source": []
  },
  {
   "cell_type": "code",
   "execution_count": null,
   "id": "722b1aad",
   "metadata": {},
   "outputs": [],
   "source": []
  },
  {
   "cell_type": "code",
   "execution_count": 3,
   "id": "b37eecad",
   "metadata": {},
   "outputs": [
    {
     "name": "stdout",
     "output_type": "stream",
     "text": [
      "hello from function to the player\n"
     ]
    }
   ],
   "source": [
    "player()"
   ]
  },
  {
   "cell_type": "code",
   "execution_count": null,
   "id": "b4404bbb",
   "metadata": {},
   "outputs": [],
   "source": []
  }
 ],
 "metadata": {
  "kernelspec": {
   "display_name": "Python 3 (ipykernel)",
   "language": "python",
   "name": "python3"
  },
  "language_info": {
   "codemirror_mode": {
    "name": "ipython",
    "version": 3
   },
   "file_extension": ".py",
   "mimetype": "text/x-python",
   "name": "python",
   "nbconvert_exporter": "python",
   "pygments_lexer": "ipython3",
   "version": "3.9.7"
  }
 },
 "nbformat": 4,
 "nbformat_minor": 5
}
