{
 "cells": [
  {
   "cell_type": "code",
   "execution_count": 5,
   "id": "27dac838",
   "metadata": {},
   "outputs": [
    {
     "name": "stdout",
     "output_type": "stream",
     "text": [
      "Enter the quantity1200\n",
      "Discount 12000.0\n"
     ]
    }
   ],
   "source": [
    "# A shop will give discount of 10% if the cost of \n",
    "# purchased quantity is more than 1000.\n",
    "# Ask user for quantity\n",
    "# Suppose, one unit will cost 100.\n",
    "# Judge and print total cost for user.\n",
    "quantity = int(input('Enter the quantity'))\n",
    "unit = quantity*100\n",
    "if unit>1000:\n",
    "    discount = (unit*10)/100\n",
    "    print(\"Discount\",discount)\n",
    "else:\n",
    "    print('No discount')\n"
   ]
  },
  {
   "cell_type": "code",
   "execution_count": 6,
   "id": "4ca9501a",
   "metadata": {},
   "outputs": [
    {
     "name": "stdout",
     "output_type": "stream",
     "text": [
      "enter your attendnce34\n",
      "enter y/n for medical cauesy\n",
      "you are not allowed in exam\n",
      "total attendace  11.333333333333332\n",
      "medical cause\n"
     ]
    }
   ],
   "source": [
    "total=300\n",
    "x=int(input(\"enter your attendnce\"))\n",
    "st=input(\"enter y/n for medical caues\")\n",
    "y=(x/total)*100\n",
    "if(y>=75):\n",
    "    print(\"student is allowed to sit in exam\")\n",
    "    print(\"total attendence\",y)\n",
    "    if st=='n' or st=='N':\n",
    "        print(\"student allowd for exam\")\n",
    "else:\n",
    "    print(\"you are not allowed in exam\")\n",
    "    print(\"total attendace \",y)\n",
    "    print(\"medical cause\")"
   ]
  },
  {
   "cell_type": "code",
   "execution_count": 17,
   "id": "752e6982",
   "metadata": {},
   "outputs": [
    {
     "name": "stdout",
     "output_type": "stream",
     "text": [
      "Enter the held classes100\n",
      "Enter the attend classes20\n",
      "Do you have any medical condition Yes or no\n",
      "Yes\n",
      "allowed\n"
     ]
    }
   ],
   "source": [
    "class_held = int(input('Enter the held classes'))\n",
    "attend = int(input('Enter the attend classes'))\n",
    "per = (attend/class_held)*100\n",
    "if per>75:\n",
    "    print('Allowed')\n",
    "elif per<75:\n",
    "    print(\"Do you have any medical condition Yes or no\")\n",
    "    med_cond = input()\n",
    "    if med_cond == 'Yes':\n",
    "        print('allowed')\n",
    "    elif med_cond != 'Yes':\n",
    "        print(\"Not Allowed\")\n",
    "else:\n",
    "    print('Not allowed')"
   ]
  },
  {
   "cell_type": "code",
   "execution_count": 18,
   "id": "cdffa752",
   "metadata": {},
   "outputs": [
    {
     "name": "stdout",
     "output_type": "stream",
     "text": [
      "1\n",
      "2\n",
      "3\n"
     ]
    }
   ],
   "source": [
    "#loop---> for loop / while loop\n",
    "# for loop\n",
    "# for i in range(10):\n",
    "#     print(i)\n",
    "\n",
    "\n",
    "# 1-100000000000\n",
    "# print(1)\n",
    "# print(2)\n",
    "# print(3)"
   ]
  },
  {
   "cell_type": "code",
   "execution_count": 19,
   "id": "ddbbc46a",
   "metadata": {},
   "outputs": [
    {
     "name": "stdout",
     "output_type": "stream",
     "text": [
      "0\n",
      "1\n",
      "2\n",
      "3\n",
      "4\n",
      "5\n",
      "6\n",
      "7\n",
      "8\n",
      "9\n"
     ]
    }
   ],
   "source": [
    "#for loop---->0-10\n",
    "# for variable in range():\n",
    "#     print(variable)\n",
    "\n",
    "for i in range(10):\n",
    "    print(i)"
   ]
  },
  {
   "cell_type": "code",
   "execution_count": 20,
   "id": "938ace07",
   "metadata": {},
   "outputs": [
    {
     "name": "stdout",
     "output_type": "stream",
     "text": [
      "2\n",
      "3\n",
      "4\n",
      "5\n",
      "6\n",
      "7\n",
      "8\n",
      "9\n"
     ]
    }
   ],
   "source": [
    "for x in range(2,10):\n",
    "    print(x)"
   ]
  },
  {
   "cell_type": "code",
   "execution_count": null,
   "id": "e4fb00a9",
   "metadata": {},
   "outputs": [],
   "source": []
  }
 ],
 "metadata": {
  "kernelspec": {
   "display_name": "Python 3 (ipykernel)",
   "language": "python",
   "name": "python3"
  },
  "language_info": {
   "codemirror_mode": {
    "name": "ipython",
    "version": 3
   },
   "file_extension": ".py",
   "mimetype": "text/x-python",
   "name": "python",
   "nbconvert_exporter": "python",
   "pygments_lexer": "ipython3",
   "version": "3.9.7"
  }
 },
 "nbformat": 4,
 "nbformat_minor": 5
}
