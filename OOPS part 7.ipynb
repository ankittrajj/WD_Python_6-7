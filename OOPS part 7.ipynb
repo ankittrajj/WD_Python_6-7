{
 "cells": [
  {
   "cell_type": "code",
   "execution_count": 6,
   "id": "09595dc5",
   "metadata": {},
   "outputs": [
    {
     "name": "stdout",
     "output_type": "stream",
     "text": [
      "hello world\n",
      "I am proteced\n"
     ]
    },
    {
     "ename": "AttributeError",
     "evalue": "'a' object has no attribute 'fun1'",
     "output_type": "error",
     "traceback": [
      "\u001b[1;31m---------------------------------------------------------------------------\u001b[0m",
      "\u001b[1;31mAttributeError\u001b[0m                            Traceback (most recent call last)",
      "\u001b[1;32m~\\AppData\\Local\\Temp/ipykernel_10580/537514163.py\u001b[0m in \u001b[0;36m<module>\u001b[1;34m\u001b[0m\n\u001b[0;32m     18\u001b[0m \u001b[0mx\u001b[0m\u001b[1;33m.\u001b[0m\u001b[0mfunction\u001b[0m\u001b[1;33m(\u001b[0m\u001b[1;33m)\u001b[0m\u001b[1;33m\u001b[0m\u001b[1;33m\u001b[0m\u001b[0m\n\u001b[0;32m     19\u001b[0m \u001b[0mx\u001b[0m\u001b[1;33m.\u001b[0m\u001b[0m_func2\u001b[0m\u001b[1;33m(\u001b[0m\u001b[1;33m)\u001b[0m\u001b[1;33m\u001b[0m\u001b[1;33m\u001b[0m\u001b[0m\n\u001b[1;32m---> 20\u001b[1;33m \u001b[0mx\u001b[0m\u001b[1;33m.\u001b[0m\u001b[0mfun1\u001b[0m\u001b[1;33m(\u001b[0m\u001b[1;33m)\u001b[0m\u001b[1;33m\u001b[0m\u001b[1;33m\u001b[0m\u001b[0m\n\u001b[0m",
      "\u001b[1;31mAttributeError\u001b[0m: 'a' object has no attribute 'fun1'"
     ]
    }
   ],
   "source": [
    "#Encapsulation----hidding of code /wrap of code with respect\n",
    "#  to user.\n",
    "# excess specifiers-----> public / private.\n",
    "\n",
    "class a :\n",
    "    def function(self):\n",
    "        print('hello world')\n",
    "        \n",
    "#      private   \n",
    "    def __fun1(self):\n",
    "        print(\"I am private\")\n",
    "        \n",
    "#         protected\n",
    "    def _func2(self):\n",
    "        print(\"I am proteced\")\n",
    "        \n",
    "x = a()\n",
    "x.function()\n",
    "x._func2()\n",
    "x.fun1()\n"
   ]
  },
  {
   "cell_type": "markdown",
   "id": "c122fa28",
   "metadata": {},
   "source": [
    "# Polymorphism\n"
   ]
  },
  {
   "cell_type": "code",
   "execution_count": 7,
   "id": "aca7cfd5",
   "metadata": {},
   "outputs": [],
   "source": [
    "# polymorphism ----> same work with different approach.\n",
    "# overloading.-------> operator overloading,\n",
    "# method overloading\n",
    "# overriding.\n",
    "\n",
    "# "
   ]
  },
  {
   "cell_type": "code",
   "execution_count": 8,
   "id": "4cd5fc2a",
   "metadata": {},
   "outputs": [],
   "source": [
    "a=20"
   ]
  },
  {
   "cell_type": "code",
   "execution_count": 9,
   "id": "4749490b",
   "metadata": {},
   "outputs": [
    {
     "data": {
      "text/plain": [
       "20"
      ]
     },
     "execution_count": 9,
     "metadata": {},
     "output_type": "execute_result"
    }
   ],
   "source": [
    "a"
   ]
  },
  {
   "cell_type": "code",
   "execution_count": 10,
   "id": "47a56310",
   "metadata": {},
   "outputs": [
    {
     "data": {
      "text/plain": [
       "10"
      ]
     },
     "execution_count": 10,
     "metadata": {},
     "output_type": "execute_result"
    }
   ],
   "source": [
    "a=10\n",
    "a"
   ]
  },
  {
   "cell_type": "code",
   "execution_count": 11,
   "id": "9fb149c3",
   "metadata": {},
   "outputs": [
    {
     "data": {
      "text/plain": [
       "4"
      ]
     },
     "execution_count": 11,
     "metadata": {},
     "output_type": "execute_result"
    }
   ],
   "source": [
    "# +-----> int/ string \n",
    "2+2"
   ]
  },
  {
   "cell_type": "code",
   "execution_count": 12,
   "id": "3505ad06",
   "metadata": {},
   "outputs": [
    {
     "data": {
      "text/plain": [
       "'23'"
      ]
     },
     "execution_count": 12,
     "metadata": {},
     "output_type": "execute_result"
    }
   ],
   "source": [
    "'2'+'3'"
   ]
  },
  {
   "cell_type": "code",
   "execution_count": 15,
   "id": "2a564654",
   "metadata": {},
   "outputs": [
    {
     "name": "stdout",
     "output_type": "stream",
     "text": [
      "5\n"
     ]
    },
    {
     "data": {
      "text/plain": [
       "'hellopython'"
      ]
     },
     "execution_count": 15,
     "metadata": {},
     "output_type": "execute_result"
    }
   ],
   "source": [
    "# operator overloading\n",
    "class a :\n",
    "    def poly(self,a,b):\n",
    "        result = a+b\n",
    "        return result\n",
    "s = a()\n",
    "print(s.poly(2,3))\n",
    "s.poly('hello','python')\n",
    "        "
   ]
  },
  {
   "cell_type": "code",
   "execution_count": 20,
   "id": "774021c4",
   "metadata": {},
   "outputs": [
    {
     "name": "stdout",
     "output_type": "stream",
     "text": [
      "1\n",
      "2\n",
      "1\n",
      "100\n",
      "0\n",
      "9\n",
      "89\n",
      "9\n"
     ]
    }
   ],
   "source": [
    "# method overloading\n",
    "class x:\n",
    "    def me(self,a=89,b=9):\n",
    "        print(a)\n",
    "        print(b)\n",
    "m = x()\n",
    "m.me(1,2)\n",
    "m.me(1,100)\n",
    "m.me(0)\n",
    "m.me()"
   ]
  },
  {
   "cell_type": "code",
   "execution_count": 23,
   "id": "9cf13746",
   "metadata": {},
   "outputs": [
    {
     "name": "stdout",
     "output_type": "stream",
     "text": [
      "Mai phir se add ho gya bhai\n"
     ]
    }
   ],
   "source": [
    "# OverRiding-----> same function with same number of arg.\n",
    "class c:\n",
    "    def add(self):\n",
    "        print('ADD ho gya bhai')\n",
    "        \n",
    "    def add(self):\n",
    "        print(\"Mai phir se add ho gya bhai\")\n",
    "\n",
    "s = c()\n",
    "s.add()"
   ]
  },
  {
   "cell_type": "code",
   "execution_count": 26,
   "id": "3c46a7f3",
   "metadata": {},
   "outputs": [
    {
     "data": {
      "text/plain": [
       "5"
      ]
     },
     "execution_count": 26,
     "metadata": {},
     "output_type": "execute_result"
    }
   ],
   "source": [
    "a=20\n",
    "a\n",
    "a=10\n",
    "a\n",
    "a=5\n",
    "a"
   ]
  },
  {
   "cell_type": "code",
   "execution_count": null,
   "id": "29680bf4",
   "metadata": {},
   "outputs": [],
   "source": []
  }
 ],
 "metadata": {
  "kernelspec": {
   "display_name": "Python 3 (ipykernel)",
   "language": "python",
   "name": "python3"
  },
  "language_info": {
   "codemirror_mode": {
    "name": "ipython",
    "version": 3
   },
   "file_extension": ".py",
   "mimetype": "text/x-python",
   "name": "python",
   "nbconvert_exporter": "python",
   "pygments_lexer": "ipython3",
   "version": "3.9.7"
  }
 },
 "nbformat": 4,
 "nbformat_minor": 5
}
