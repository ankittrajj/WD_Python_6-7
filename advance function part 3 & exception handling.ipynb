{
 "cells": [
  {
   "cell_type": "code",
   "execution_count": 1,
   "id": "29db628c",
   "metadata": {},
   "outputs": [],
   "source": [
    "#reduce ------> [list......]\n",
    "#wap to summ all the numbers present in a list.\n",
    "from functools import reduce\n",
    "a = [23,45,67,90,34]"
   ]
  },
  {
   "cell_type": "code",
   "execution_count": 2,
   "id": "b0bf64fa",
   "metadata": {},
   "outputs": [
    {
     "data": {
      "text/plain": [
       "259"
      ]
     },
     "execution_count": 2,
     "metadata": {},
     "output_type": "execute_result"
    }
   ],
   "source": [
    "reduce(lambda x,y:x+y,a)"
   ]
  },
  {
   "cell_type": "code",
   "execution_count": 3,
   "id": "2ea5fa0e",
   "metadata": {},
   "outputs": [
    {
     "data": {
      "text/plain": [
       "90"
      ]
     },
     "execution_count": 3,
     "metadata": {},
     "output_type": "execute_result"
    }
   ],
   "source": [
    "#wap find max no. from list\n",
    "# find min no. also\n",
    "\n",
    "#wap to filter the age of 30 + persons in a data\n",
    "# and after filtering you need to square the output, now aftr\n",
    "# getting the ouput you need to plus the whole output and get a \n",
    "# particular indvidual number.\n",
    "\n",
    "a = [ 45,67,90,87,78,66,23]\n",
    "reduce(lambda x,y:x if x>y else y,a)\n"
   ]
  },
  {
   "cell_type": "code",
   "execution_count": 8,
   "id": "18458aaa",
   "metadata": {},
   "outputs": [
    {
     "data": {
      "text/plain": [
       "[56, 46, 89]"
      ]
     },
     "execution_count": 8,
     "metadata": {},
     "output_type": "execute_result"
    }
   ],
   "source": [
    "b=[23,56,30,46,89,28]\n",
    "z = list(filter(lambda x:x>30,b))\n",
    "z"
   ]
  },
  {
   "cell_type": "code",
   "execution_count": 11,
   "id": "59ec67a5",
   "metadata": {},
   "outputs": [
    {
     "data": {
      "text/plain": [
       "[3136, 2116, 7921]"
      ]
     },
     "execution_count": 11,
     "metadata": {},
     "output_type": "execute_result"
    }
   ],
   "source": [
    "m = list(map(lambda x:x**2,z))\n",
    "m"
   ]
  },
  {
   "cell_type": "code",
   "execution_count": 12,
   "id": "9988ba43",
   "metadata": {},
   "outputs": [
    {
     "data": {
      "text/plain": [
       "13173"
      ]
     },
     "execution_count": 12,
     "metadata": {},
     "output_type": "execute_result"
    }
   ],
   "source": [
    "reduce(lambda x,y:x+y,m)"
   ]
  },
  {
   "cell_type": "markdown",
   "id": "e74da5da",
   "metadata": {},
   "source": [
    "# Exception handling"
   ]
  },
  {
   "cell_type": "code",
   "execution_count": 17,
   "id": "48a7a20c",
   "metadata": {},
   "outputs": [
    {
     "name": "stdout",
     "output_type": "stream",
     "text": [
      "2\n",
      "3\n"
     ]
    },
    {
     "ename": "TypeError",
     "evalue": "unsupported operand type(s) for +: 'int' and 'str'",
     "output_type": "error",
     "traceback": [
      "\u001b[1;31m---------------------------------------------------------------------------\u001b[0m",
      "\u001b[1;31mTypeError\u001b[0m                                 Traceback (most recent call last)",
      "\u001b[1;32m~\\AppData\\Local\\Temp/ipykernel_12668/386297956.py\u001b[0m in \u001b[0;36m<module>\u001b[1;34m\u001b[0m\n\u001b[0;32m      1\u001b[0m \u001b[0ma\u001b[0m \u001b[1;33m=\u001b[0m \u001b[0mint\u001b[0m\u001b[1;33m(\u001b[0m\u001b[0minput\u001b[0m\u001b[1;33m(\u001b[0m\u001b[1;33m)\u001b[0m\u001b[1;33m)\u001b[0m\u001b[1;33m\u001b[0m\u001b[1;33m\u001b[0m\u001b[0m\n\u001b[0;32m      2\u001b[0m \u001b[0mb\u001b[0m \u001b[1;33m=\u001b[0m \u001b[0minput\u001b[0m\u001b[1;33m(\u001b[0m\u001b[1;33m)\u001b[0m\u001b[1;33m\u001b[0m\u001b[1;33m\u001b[0m\u001b[0m\n\u001b[1;32m----> 3\u001b[1;33m \u001b[0mc\u001b[0m \u001b[1;33m=\u001b[0m \u001b[0ma\u001b[0m\u001b[1;33m+\u001b[0m\u001b[0mb\u001b[0m\u001b[1;33m\u001b[0m\u001b[1;33m\u001b[0m\u001b[0m\n\u001b[0m\u001b[0;32m      4\u001b[0m \u001b[1;32mtry\u001b[0m\u001b[1;33m:\u001b[0m\u001b[1;33m\u001b[0m\u001b[1;33m\u001b[0m\u001b[0m\n\u001b[0;32m      5\u001b[0m     \u001b[0mprint\u001b[0m\u001b[1;33m(\u001b[0m\u001b[0mc\u001b[0m\u001b[1;33m)\u001b[0m\u001b[1;33m\u001b[0m\u001b[1;33m\u001b[0m\u001b[0m\n",
      "\u001b[1;31mTypeError\u001b[0m: unsupported operand type(s) for +: 'int' and 'str'"
     ]
    }
   ],
   "source": [
    "a = int(input())\n",
    "b = input()\n",
    "c = a+b\n",
    "try:\n",
    "    print(c)\n",
    "except:\n",
    "    print(e)\n",
    "\n",
    "\n",
    "print(\"This code is very much important for the app\")"
   ]
  },
  {
   "cell_type": "code",
   "execution_count": 19,
   "id": "a498d616",
   "metadata": {},
   "outputs": [
    {
     "name": "stdout",
     "output_type": "stream",
     "text": [
      "enter the number\n",
      "2\n",
      "enter the second number\n",
      "3\n",
      "can only concatenate str (not \"int\") to str\n",
      "imp code is running\n"
     ]
    }
   ],
   "source": [
    "print(\"enter the number\")\n",
    "num1 = input()\n",
    "print(\"enter the second number\")\n",
    "num2 = int(input())\n",
    "try:\n",
    "    print((num1)+int(num2))\n",
    "    \n",
    "except Exception as e:\n",
    "    print(e)\n",
    "    \n",
    "    \n",
    "print(\"imp code is running\")\n",
    "   "
   ]
  },
  {
   "cell_type": "code",
   "execution_count": null,
   "id": "6d3fd43e",
   "metadata": {},
   "outputs": [],
   "source": []
  }
 ],
 "metadata": {
  "kernelspec": {
   "display_name": "Python 3 (ipykernel)",
   "language": "python",
   "name": "python3"
  },
  "language_info": {
   "codemirror_mode": {
    "name": "ipython",
    "version": 3
   },
   "file_extension": ".py",
   "mimetype": "text/x-python",
   "name": "python",
   "nbconvert_exporter": "python",
   "pygments_lexer": "ipython3",
   "version": "3.9.7"
  }
 },
 "nbformat": 4,
 "nbformat_minor": 5
}
