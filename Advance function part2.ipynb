{
 "cells": [
  {
   "cell_type": "code",
   "execution_count": 2,
   "id": "f7063cb9",
   "metadata": {},
   "outputs": [
    {
     "name": "stdout",
     "output_type": "stream",
     "text": [
      "10\n"
     ]
    }
   ],
   "source": [
    "# lambda----> one liner / anonymous \n",
    "def add():\n",
    "    a=9\n",
    "    b=1\n",
    "    c = a+b\n",
    "    print(c)\n",
    "    \n",
    "add()"
   ]
  },
  {
   "cell_type": "code",
   "execution_count": 5,
   "id": "e42aa250",
   "metadata": {},
   "outputs": [
    {
     "data": {
      "text/plain": [
       "1"
      ]
     },
     "execution_count": 5,
     "metadata": {},
     "output_type": "execute_result"
    }
   ],
   "source": [
    "a = lambda x,y:x+y*x-y\n",
    "a(1,2)"
   ]
  },
  {
   "cell_type": "code",
   "execution_count": 9,
   "id": "b4dec0c2",
   "metadata": {},
   "outputs": [
    {
     "data": {
      "text/plain": [
       "[45, 78, 90, 99, 78]"
      ]
     },
     "execution_count": 9,
     "metadata": {},
     "output_type": "execute_result"
    }
   ],
   "source": [
    "# filter----->increase the quality of your data.\n",
    "\n",
    "a = [23,45,78,90,99,78,12]\n",
    "list(filter(lambda x: x>30,a))"
   ]
  },
  {
   "cell_type": "code",
   "execution_count": 10,
   "id": "8dbccf51",
   "metadata": {},
   "outputs": [],
   "source": [
    "a = [23,45,78,90,99,78,12]\n",
    "z = list(filter(lambda x: x>30,a))"
   ]
  },
  {
   "cell_type": "code",
   "execution_count": 11,
   "id": "c9cfc9ce",
   "metadata": {},
   "outputs": [
    {
     "data": {
      "text/plain": [
       "[45, 78, 90, 99, 78]"
      ]
     },
     "execution_count": 11,
     "metadata": {},
     "output_type": "execute_result"
    }
   ],
   "source": [
    "z"
   ]
  },
  {
   "cell_type": "code",
   "execution_count": 12,
   "id": "fa4c53d0",
   "metadata": {},
   "outputs": [
    {
     "data": {
      "text/plain": [
       "[45, 78, 90, 99, 78]"
      ]
     },
     "execution_count": 12,
     "metadata": {},
     "output_type": "execute_result"
    }
   ],
   "source": [
    "#map function.....\n",
    "# syntax---->\n",
    "# map(function,data)\n",
    "\n",
    "z"
   ]
  },
  {
   "cell_type": "code",
   "execution_count": 15,
   "id": "4d198793",
   "metadata": {},
   "outputs": [],
   "source": [
    "vivek = tuple(map(lambda x:x**2,z))"
   ]
  },
  {
   "cell_type": "code",
   "execution_count": 16,
   "id": "9fc0bd51",
   "metadata": {},
   "outputs": [
    {
     "data": {
      "text/plain": [
       "(2025, 6084, 8100, 9801, 6084)"
      ]
     },
     "execution_count": 16,
     "metadata": {},
     "output_type": "execute_result"
    }
   ],
   "source": [
    "vivek"
   ]
  },
  {
   "cell_type": "code",
   "execution_count": null,
   "id": "709bec0d",
   "metadata": {},
   "outputs": [],
   "source": []
  }
 ],
 "metadata": {
  "kernelspec": {
   "display_name": "Python 3 (ipykernel)",
   "language": "python",
   "name": "python3"
  },
  "language_info": {
   "codemirror_mode": {
    "name": "ipython",
    "version": 3
   },
   "file_extension": ".py",
   "mimetype": "text/x-python",
   "name": "python",
   "nbconvert_exporter": "python",
   "pygments_lexer": "ipython3",
   "version": "3.9.7"
  }
 },
 "nbformat": 4,
 "nbformat_minor": 5
}
