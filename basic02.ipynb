{
 "cells": [
  {
   "cell_type": "code",
   "execution_count": 3,
   "id": "092e5ff5",
   "metadata": {},
   "outputs": [
    {
     "name": "stdout",
     "output_type": "stream",
     "text": [
      "2\n"
     ]
    }
   ],
   "source": [
    "# /\n",
    "a=5\n",
    "b=2\n",
    "divide = a//b\n",
    "print(divide)"
   ]
  },
  {
   "cell_type": "code",
   "execution_count": 13,
   "id": "ca677785",
   "metadata": {},
   "outputs": [
    {
     "name": "stdout",
     "output_type": "stream",
     "text": [
      "Teenager\n"
     ]
    }
   ],
   "source": [
    "# Condition\n",
    "# syntax\n",
    "# if condition---->True/False:\n",
    "#     print('Msg')\n",
    "# else:\n",
    "#     print('Msg')\n",
    "\n",
    "age = 18\n",
    "if age>18:\n",
    "    print('Adult')\n",
    "elif age == 18:\n",
    "    print('Teenager')\n",
    "else:\n",
    "    print('Child')"
   ]
  },
  {
   "cell_type": "code",
   "execution_count": 14,
   "id": "ef1ceeb3",
   "metadata": {},
   "outputs": [
    {
     "name": "stdout",
     "output_type": "stream",
     "text": [
      "The largest number is 14\n"
     ]
    }
   ],
   "source": [
    "#wap to find max. no from three numbers.\n",
    "#wap to find min. no from three numbers.\n",
    "\n",
    "a = 10\n",
    "b= 14\n",
    "c= 12\n",
    "if (a >= b) and (a >= c):\n",
    "   largest = a\n",
    "elif (b >= a) and (b >= c):\n",
    "   largest = b\n",
    "else:\n",
    "   largest = c\n",
    "\n",
    "print(\"The largest number is\", largest)"
   ]
  },
  {
   "cell_type": "code",
   "execution_count": 16,
   "id": "d431f40b",
   "metadata": {},
   "outputs": [
    {
     "name": "stdout",
     "output_type": "stream",
     "text": [
      "A is greater\n"
     ]
    }
   ],
   "source": [
    "# max\n",
    "a=90\n",
    "b=78\n",
    "c=67\n",
    "if a>b and a>c:\n",
    "    print(\"A is greater\")\n",
    "elif b>a and b>c:\n",
    "    print(\"B is greater\")\n",
    "# else:\n",
    "#     print('C')\n",
    "elif c>a and c>b:\n",
    "    print('C is greater')"
   ]
  },
  {
   "cell_type": "code",
   "execution_count": 17,
   "id": "4c2d77f4",
   "metadata": {},
   "outputs": [
    {
     "name": "stdout",
     "output_type": "stream",
     "text": [
      "C is less\n"
     ]
    }
   ],
   "source": [
    "# min\n",
    "a=90\n",
    "b=78\n",
    "c=67\n",
    "if a<b and a<c:\n",
    "    print(\"A is less\")\n",
    "elif b<a and b<c:\n",
    "    print(\"B is less\")\n",
    "# else:\n",
    "#     print('C')\n",
    "elif c<a and c<b:\n",
    "    print('C is less')"
   ]
  },
  {
   "cell_type": "code",
   "execution_count": null,
   "id": "49fcce3e",
   "metadata": {},
   "outputs": [],
   "source": []
  }
 ],
 "metadata": {
  "kernelspec": {
   "display_name": "Python 3 (ipykernel)",
   "language": "python",
   "name": "python3"
  },
  "language_info": {
   "codemirror_mode": {
    "name": "ipython",
    "version": 3
   },
   "file_extension": ".py",
   "mimetype": "text/x-python",
   "name": "python",
   "nbconvert_exporter": "python",
   "pygments_lexer": "ipython3",
   "version": "3.9.7"
  }
 },
 "nbformat": 4,
 "nbformat_minor": 5
}
