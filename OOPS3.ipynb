{
 "cells": [
  {
   "cell_type": "code",
   "execution_count": 3,
   "id": "6007dc1c",
   "metadata": {},
   "outputs": [
    {
     "name": "stdout",
     "output_type": "stream",
     "text": [
      "Average of marks =  48.666666666666664\n"
     ]
    }
   ],
   "source": [
    "#wap to obtain the avg. marks of a student in 5 subject.\n",
    "class student:\n",
    "    def __init__(self,sub1,sub2,sub3):\n",
    "        self.sub1 = sub1\n",
    "        self.sub2 = sub2\n",
    "        self.sub3 = sub3\n",
    "        \n",
    "    def avg_marks(self):\n",
    "        average = (self.sub1+self.sub2+self.sub3)/3\n",
    "        print(\"Average of marks = \",average)\n",
    "        \n",
    "x = student(23,45,78)\n",
    "x.avg_marks()\n",
    "        "
   ]
  },
  {
   "cell_type": "code",
   "execution_count": 6,
   "id": "5408a68a",
   "metadata": {},
   "outputs": [
    {
     "data": {
      "text/plain": [
       "<__main__.x at 0x2cc83862760>"
      ]
     },
     "execution_count": 6,
     "metadata": {},
     "output_type": "execute_result"
    }
   ],
   "source": [
    "#pillar -----> inheritance\n",
    "#wap to make a empty class and try to make the object for it and also try \n",
    "# to get the output.\n",
    "\n",
    "\n",
    "class x:\n",
    "    None\n",
    "#     pass\n",
    "x()"
   ]
  },
  {
   "cell_type": "code",
   "execution_count": 7,
   "id": "d15ab9a4",
   "metadata": {},
   "outputs": [
    {
     "data": {
      "text/plain": [
       "3077409451600"
      ]
     },
     "execution_count": 7,
     "metadata": {},
     "output_type": "execute_result"
    }
   ],
   "source": [
    "0x2cc83e5ae50"
   ]
  },
  {
   "cell_type": "code",
   "execution_count": 10,
   "id": "1b1e7532",
   "metadata": {},
   "outputs": [
    {
     "data": {
      "text/plain": [
       "20"
      ]
     },
     "execution_count": 10,
     "metadata": {},
     "output_type": "execute_result"
    }
   ],
   "source": [
    "# inheritance\n",
    "class parent_class:\n",
    "    def __init__(self,color,model):\n",
    "        self.color = color\n",
    "        self.model = model\n",
    "        \n",
    "class child_class(parent_class):\n",
    "    def __init__(self,price):\n",
    "        parent_class.__init__(self,color,model):\n",
    "        self.price = price\n",
    "        \n",
    "        \n",
    "a = child_class('black',2008,20)\n",
    "a.price"
   ]
  },
  {
   "cell_type": "code",
   "execution_count": 11,
   "id": "4f892355",
   "metadata": {},
   "outputs": [
    {
     "data": {
      "text/plain": [
       "'black'"
      ]
     },
     "execution_count": 11,
     "metadata": {},
     "output_type": "execute_result"
    }
   ],
   "source": [
    "a.color"
   ]
  },
  {
   "cell_type": "code",
   "execution_count": 12,
   "id": "2ee8a66f",
   "metadata": {},
   "outputs": [
    {
     "data": {
      "text/plain": [
       "2008"
      ]
     },
     "execution_count": 12,
     "metadata": {},
     "output_type": "execute_result"
    }
   ],
   "source": [
    "a.model"
   ]
  },
  {
   "cell_type": "code",
   "execution_count": 13,
   "id": "c64a998a",
   "metadata": {},
   "outputs": [
    {
     "data": {
      "text/plain": [
       "20"
      ]
     },
     "execution_count": 13,
     "metadata": {},
     "output_type": "execute_result"
    }
   ],
   "source": [
    "a.price"
   ]
  },
  {
   "cell_type": "code",
   "execution_count": null,
   "id": "0ca4f5a8",
   "metadata": {},
   "outputs": [],
   "source": []
  }
 ],
 "metadata": {
  "kernelspec": {
   "display_name": "Python 3 (ipykernel)",
   "language": "python",
   "name": "python3"
  },
  "language_info": {
   "codemirror_mode": {
    "name": "ipython",
    "version": 3
   },
   "file_extension": ".py",
   "mimetype": "text/x-python",
   "name": "python",
   "nbconvert_exporter": "python",
   "pygments_lexer": "ipython3",
   "version": "3.9.7"
  }
 },
 "nbformat": 4,
 "nbformat_minor": 5
}
