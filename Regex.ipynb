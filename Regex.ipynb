{
 "cells": [
  {
   "cell_type": "code",
   "execution_count": 1,
   "id": "22e24617",
   "metadata": {},
   "outputs": [],
   "source": [
    "# Regex===> Regular Expression.-----> pattern matching\n",
    "\n",
    "import re"
   ]
  },
  {
   "cell_type": "code",
   "execution_count": 2,
   "id": "1038bad0",
   "metadata": {},
   "outputs": [
    {
     "data": {
      "text/plain": [
       "['student']"
      ]
     },
     "execution_count": 2,
     "metadata": {},
     "output_type": "execute_result"
    }
   ],
   "source": [
    "#findall\n",
    "#search\n",
    "# split\n",
    "# sub\n",
    "# finditer\n",
    "\n",
    "a = \"i am a student who pass the exam\"\n",
    "re.findall(\"student\",a)"
   ]
  },
  {
   "cell_type": "code",
   "execution_count": 3,
   "id": "e9ee5fc8",
   "metadata": {},
   "outputs": [
    {
     "data": {
      "text/plain": [
       "[]"
      ]
     },
     "execution_count": 3,
     "metadata": {},
     "output_type": "execute_result"
    }
   ],
   "source": [
    "re.findall(\"students\",a)"
   ]
  },
  {
   "cell_type": "code",
   "execution_count": 4,
   "id": "0a03f4c9",
   "metadata": {},
   "outputs": [
    {
     "data": {
      "text/plain": [
       "'i am a student who pass the exam'"
      ]
     },
     "execution_count": 4,
     "metadata": {},
     "output_type": "execute_result"
    }
   ],
   "source": [
    "#search -----\n",
    "a"
   ]
  },
  {
   "cell_type": "code",
   "execution_count": 5,
   "id": "7764d6af",
   "metadata": {},
   "outputs": [
    {
     "data": {
      "text/plain": [
       "<re.Match object; span=(15, 18), match='who'>"
      ]
     },
     "execution_count": 5,
     "metadata": {},
     "output_type": "execute_result"
    }
   ],
   "source": [
    "re.search(\"who\",a)"
   ]
  },
  {
   "cell_type": "code",
   "execution_count": 6,
   "id": "ac1e33e7",
   "metadata": {},
   "outputs": [],
   "source": [
    "re.search('bro',a)"
   ]
  },
  {
   "cell_type": "code",
   "execution_count": 7,
   "id": "2829b138",
   "metadata": {},
   "outputs": [
    {
     "data": {
      "text/plain": [
       "'i am a student who pass the exam'"
      ]
     },
     "execution_count": 7,
     "metadata": {},
     "output_type": "execute_result"
    }
   ],
   "source": [
    "# split\n",
    "a"
   ]
  },
  {
   "cell_type": "code",
   "execution_count": 8,
   "id": "f30a2e13",
   "metadata": {},
   "outputs": [
    {
     "data": {
      "text/plain": [
       "['i ', 'm ', ' student who p', 'ss the ex', 'm']"
      ]
     },
     "execution_count": 8,
     "metadata": {},
     "output_type": "execute_result"
    }
   ],
   "source": [
    "re.split(\"a\",a)"
   ]
  },
  {
   "cell_type": "code",
   "execution_count": 9,
   "id": "5b4d862d",
   "metadata": {},
   "outputs": [
    {
     "data": {
      "text/plain": [
       "['i am a student who pass the exam']"
      ]
     },
     "execution_count": 9,
     "metadata": {},
     "output_type": "execute_result"
    }
   ],
   "source": [
    "re.split(\"z\",a)"
   ]
  },
  {
   "cell_type": "code",
   "execution_count": 10,
   "id": "70a0c187",
   "metadata": {},
   "outputs": [
    {
     "data": {
      "text/plain": [
       "'i am a student who pass the exam'"
      ]
     },
     "execution_count": 10,
     "metadata": {},
     "output_type": "execute_result"
    }
   ],
   "source": [
    "#sub \n",
    "a"
   ]
  },
  {
   "cell_type": "code",
   "execution_count": 11,
   "id": "8d1463ab",
   "metadata": {},
   "outputs": [
    {
     "data": {
      "text/plain": [
       "'i am a student who fail the exam'"
      ]
     },
     "execution_count": 11,
     "metadata": {},
     "output_type": "execute_result"
    }
   ],
   "source": [
    "re.sub('pass','fail',a)"
   ]
  },
  {
   "cell_type": "code",
   "execution_count": 12,
   "id": "d921fdb4",
   "metadata": {},
   "outputs": [
    {
     "data": {
      "text/plain": [
       "'i am a student who pass the exam'"
      ]
     },
     "execution_count": 12,
     "metadata": {},
     "output_type": "execute_result"
    }
   ],
   "source": [
    "re.sub('xyz','pass',a)"
   ]
  },
  {
   "cell_type": "code",
   "execution_count": 13,
   "id": "7a20a636",
   "metadata": {},
   "outputs": [
    {
     "data": {
      "text/plain": [
       "'i am a student who pass the exam'"
      ]
     },
     "execution_count": 13,
     "metadata": {},
     "output_type": "execute_result"
    }
   ],
   "source": [
    "#finditer\n",
    "a"
   ]
  },
  {
   "cell_type": "code",
   "execution_count": 14,
   "id": "1069771b",
   "metadata": {},
   "outputs": [
    {
     "name": "stdout",
     "output_type": "stream",
     "text": [
      "Starting point ----> 28 Ending point----> 32\n"
     ]
    }
   ],
   "source": [
    "pattern = 'exam'\n",
    "for match in re.finditer(pattern,a):\n",
    "    a = match.start()\n",
    "    b = match.end()\n",
    "    print(\"Starting point ---->\",a,\"Ending point---->\",b)"
   ]
  },
  {
   "cell_type": "code",
   "execution_count": 16,
   "id": "2ebb17a8",
   "metadata": {},
   "outputs": [
    {
     "name": "stdout",
     "output_type": "stream",
     "text": [
      "Invalid email\n"
     ]
    }
   ],
   "source": [
    "#wap to find the email is valid or not ??\n",
    "# email = abc@123.com\n",
    "\n",
    "#wap to find all a in the string ----> I am a boy who owns a laptop and also having\n",
    "# a phone.\n",
    "\n",
    "#wap to match the pattern and also try to replace the value from tv to computer.\n",
    "# string = I am having a tv which is a smart tv.\n",
    "\n",
    "#wap to find the starting & ending point of the pattern \n",
    "# where your string is----> \"I am known with \n",
    "# unknown personality.\"\n",
    "\n",
    "email = \"abc@123.com\"\n",
    "if re.findall('@',email) and re.findall('.',email):\n",
    "    print(\"Valid email\")\n",
    "else:\n",
    "    print(\"Invalid email\")\n"
   ]
  },
  {
   "cell_type": "code",
   "execution_count": 17,
   "id": "ba706592",
   "metadata": {},
   "outputs": [
    {
     "data": {
      "text/plain": [
       "['a', 'a', 'a', 'a', 'a', 'a', 'a', 'a']"
      ]
     },
     "execution_count": 17,
     "metadata": {},
     "output_type": "execute_result"
    }
   ],
   "source": [
    "a = 'I am a boy who owns a laptop and also having a phone.'\n",
    "re.findall(\"a\",a)"
   ]
  },
  {
   "cell_type": "code",
   "execution_count": 18,
   "id": "35247c04",
   "metadata": {},
   "outputs": [
    {
     "data": {
      "text/plain": [
       "'I am having a computer which is a smart computer.'"
      ]
     },
     "execution_count": 18,
     "metadata": {},
     "output_type": "execute_result"
    }
   ],
   "source": [
    "string = \"I am having a tv which is a smart tv.\"\n",
    "re.sub('tv','computer',string)"
   ]
  },
  {
   "cell_type": "code",
   "execution_count": 21,
   "id": "cabb8e43",
   "metadata": {},
   "outputs": [
    {
     "name": "stdout",
     "output_type": "stream",
     "text": [
      "Starting point is ---->  0 Ending point is---->  1\n",
      "Starting point is ---->  12 Ending point is---->  13\n",
      "Starting point is ---->  33 Ending point is---->  34\n"
     ]
    }
   ],
   "source": [
    "a = \"i am known with  unknown personality.\"\n",
    "pattern = 'i'\n",
    "for match in re.finditer(pattern,a):\n",
    "    x = match.start()\n",
    "    y = match.end()\n",
    "    print(\"Starting point is ----> \",x,\"Ending point is----> \",y)"
   ]
  },
  {
   "cell_type": "code",
   "execution_count": null,
   "id": "cb9ba072",
   "metadata": {},
   "outputs": [],
   "source": []
  }
 ],
 "metadata": {
  "kernelspec": {
   "display_name": "Python 3 (ipykernel)",
   "language": "python",
   "name": "python3"
  },
  "language_info": {
   "codemirror_mode": {
    "name": "ipython",
    "version": 3
   },
   "file_extension": ".py",
   "mimetype": "text/x-python",
   "name": "python",
   "nbconvert_exporter": "python",
   "pygments_lexer": "ipython3",
   "version": "3.9.7"
  }
 },
 "nbformat": 4,
 "nbformat_minor": 5
}
