{
 "cells": [
  {
   "cell_type": "code",
   "execution_count": 4,
   "id": "ee05185a",
   "metadata": {},
   "outputs": [
    {
     "data": {
      "text/plain": [
       "19"
      ]
     },
     "execution_count": 4,
     "metadata": {},
     "output_type": "execute_result"
    }
   ],
   "source": [
    "# 4.no arg with return\n",
    "# return-----> print\n",
    "def add():\n",
    "    a=9\n",
    "    b=10\n",
    "    c=a+b\n",
    "    return c\n",
    "add()"
   ]
  },
  {
   "cell_type": "code",
   "execution_count": 8,
   "id": "72b187e2",
   "metadata": {},
   "outputs": [
    {
     "data": {
      "text/plain": [
       "18"
      ]
     },
     "execution_count": 8,
     "metadata": {},
     "output_type": "execute_result"
    }
   ],
   "source": [
    "#spcl----> default arg\n",
    "def mul(a=0,b=9):\n",
    "    c = a*b\n",
    "    return c\n",
    "mul(2)"
   ]
  },
  {
   "cell_type": "code",
   "execution_count": 9,
   "id": "fe68a1e1",
   "metadata": {},
   "outputs": [
    {
     "data": {
      "text/plain": [
       "18"
      ]
     },
     "execution_count": 9,
     "metadata": {},
     "output_type": "execute_result"
    }
   ],
   "source": [
    "mul(3,6)"
   ]
  },
  {
   "cell_type": "code",
   "execution_count": 10,
   "id": "78ef0d98",
   "metadata": {},
   "outputs": [
    {
     "data": {
      "text/plain": [
       "0"
      ]
     },
     "execution_count": 10,
     "metadata": {},
     "output_type": "execute_result"
    }
   ],
   "source": [
    "mul()"
   ]
  },
  {
   "cell_type": "code",
   "execution_count": 12,
   "id": "09862143",
   "metadata": {},
   "outputs": [
    {
     "data": {
      "text/plain": [
       "7"
      ]
     },
     "execution_count": 12,
     "metadata": {},
     "output_type": "execute_result"
    }
   ],
   "source": [
    "mul(1,7)"
   ]
  },
  {
   "cell_type": "code",
   "execution_count": 13,
   "id": "e8b5e6e7",
   "metadata": {},
   "outputs": [],
   "source": [
    "# wap to calculate the salary of employee having monthly salary of 30000\n",
    "# if he/she takes more than 12 holidays in a year then a deduction of 5% will\n",
    "# take from the annual salary or if he/she has not taken a single holiday then\n",
    "# he/she will be rewarded with 7% of the total salary and also having a bonus of\n",
    "# 5% of the total income.\n",
    "\n",
    "# Wap to calculate the percentage of 5 students??\n",
    "# holiday=12\n",
    "\n",
    "# Wap to find out the average cost of 5 quantity each\n",
    "# quantity is having the value of 80 and if the value exceed by\n",
    "# avg value then also calculate the total price of whole quantity\n",
    "# avg value => 350\n",
    "\n",
    "# Wap to find the area and circumference of circle and also try to find\n",
    "# if this circle is going to be square or not?\n",
    "\n",
    "# Calculate the total area of a land having l=20 b=30.If the land\n",
    "# is greater than 100sq fit then also calculate the cost of \n",
    "# remaining land. Price of land is 20000."
   ]
  },
  {
   "cell_type": "code",
   "execution_count": 18,
   "id": "3a629492",
   "metadata": {},
   "outputs": [
    {
     "name": "stdout",
     "output_type": "stream",
     "text": [
      "43200.0\n",
      "Salary after no holidays 403200.0\n"
     ]
    }
   ],
   "source": [
    "def emp():\n",
    "    monthly_sal = 30000\n",
    "    annual_sal = monthly_sal*12\n",
    "    annual_sal\n",
    "    holiday = 0\n",
    "    if holiday>12:\n",
    "        deducted_sal = (annual_sal*5)/100\n",
    "        print(deducted_sal)\n",
    "        print(\"Annual Salary after 12 holiday---->\",annual_sal-deducted_sal)\n",
    "    elif holiday == 0:\n",
    "        bonus_sal = (annual_sal*12)/100\n",
    "        print(bonus_sal)\n",
    "        print(\"Salary after no holidays\",bonus_sal+annual_sal)\n",
    "emp()\n"
   ]
  },
  {
   "cell_type": "code",
   "execution_count": null,
   "id": "55064a33",
   "metadata": {},
   "outputs": [],
   "source": [
    "def emp(monthly_sal=30000):\n",
    "    total_sal = monthly_sal*12\n",
    "    return total_sal\n",
    "emp(30000)\n",
    "holiday= int(input(\"number of holidays\"))\n",
    "if holiday>12:\n",
    "    total_sal=(monthly_sal)*12*0.95\n",
    "    print(\"total_sal\")\n",
    "elif holiday==0 :\n",
    "    total_sal_with_bonus = monthly_sal*12*0.07*0.05\n",
    "    print(\"total_sal with bonus\")\n",
    "emp(30000)"
   ]
  }
 ],
 "metadata": {
  "kernelspec": {
   "display_name": "Python 3 (ipykernel)",
   "language": "python",
   "name": "python3"
  },
  "language_info": {
   "codemirror_mode": {
    "name": "ipython",
    "version": 3
   },
   "file_extension": ".py",
   "mimetype": "text/x-python",
   "name": "python",
   "nbconvert_exporter": "python",
   "pygments_lexer": "ipython3",
   "version": "3.9.7"
  }
 },
 "nbformat": 4,
 "nbformat_minor": 5
}
