{
 "cells": [
  {
   "cell_type": "code",
   "execution_count": 10,
   "id": "f29fe30a",
   "metadata": {},
   "outputs": [
    {
     "data": {
      "text/plain": [
       "('A', 23)"
      ]
     },
     "execution_count": 10,
     "metadata": {},
     "output_type": "execute_result"
    }
   ],
   "source": [
    "#inheritance\n",
    "class std:\n",
    "    def __init__(self,name):\n",
    "        self.name = name\n",
    "        \n",
    "class std2(std):\n",
    "    def __init__(self,name,age):\n",
    "        std.__init__(self,name)\n",
    "        \n",
    "        self.age=age\n",
    "        \n",
    "\n",
    "s = std2(\"A\",23)\n",
    "s.name,s.age"
   ]
  },
  {
   "cell_type": "code",
   "execution_count": 8,
   "id": "39e2f642",
   "metadata": {},
   "outputs": [
    {
     "data": {
      "text/plain": [
       "'A'"
      ]
     },
     "execution_count": 8,
     "metadata": {},
     "output_type": "execute_result"
    }
   ],
   "source": [
    "s.age"
   ]
  },
  {
   "cell_type": "code",
   "execution_count": 13,
   "id": "4906fff9",
   "metadata": {},
   "outputs": [
    {
     "name": "stdout",
     "output_type": "stream",
     "text": [
      "Name is---->  A \n",
      "Age is---->  23\n"
     ]
    }
   ],
   "source": [
    "print(\"Name is----> \",s.name,\"\\nAge is----> \",s.age)"
   ]
  },
  {
   "cell_type": "code",
   "execution_count": 16,
   "id": "412dfc10",
   "metadata": {},
   "outputs": [
    {
     "data": {
      "text/plain": [
       "('A', 23)"
      ]
     },
     "execution_count": 16,
     "metadata": {},
     "output_type": "execute_result"
    }
   ],
   "source": [
    "class std:\n",
    "    def __init__(self,name):\n",
    "        self.name = name\n",
    "        \n",
    "class std2(std):\n",
    "    def __init__(self,name,age):\n",
    "        super().__init__(name)\n",
    "        self.age=age\n",
    "        \n",
    "\n",
    "s = std2(\"A\",23)\n",
    "s.name,s.age"
   ]
  },
  {
   "cell_type": "code",
   "execution_count": 20,
   "id": "a6bc0841",
   "metadata": {},
   "outputs": [
    {
     "name": "stdout",
     "output_type": "stream",
     "text": [
      "My milage is -----> 10.0\n"
     ]
    }
   ],
   "source": [
    "#Wap to find the milage of a truck with the help of inheritance.\n",
    "class truck:\n",
    "    def __init__(self,dis,lit):\n",
    "        self.dis = dis\n",
    "        self.lit = lit\n",
    "        \n",
    "class truck2(truck):\n",
    "    def __init__(self,dis,lit,speed):\n",
    "        truck.__init__(self,dis,lit)\n",
    "        self.speed=speed\n",
    "        \n",
    "        \n",
    "    def milage(v):\n",
    "        m = v.dis/v.lit\n",
    "        print(\"My milage is ----->\",m)\n",
    "        \n",
    "t = truck2(20,2,80)\n",
    "# t.dis\n",
    "t.milage()\n",
    "        "
   ]
  },
  {
   "cell_type": "code",
   "execution_count": null,
   "id": "76207895",
   "metadata": {},
   "outputs": [],
   "source": [
    "#create a class with instance attribute.\n",
    "#create a child class that will inherit all the variables & methods from \n",
    "# vechile class.\n"
   ]
  }
 ],
 "metadata": {
  "kernelspec": {
   "display_name": "Python 3 (ipykernel)",
   "language": "python",
   "name": "python3"
  },
  "language_info": {
   "codemirror_mode": {
    "name": "ipython",
    "version": 3
   },
   "file_extension": ".py",
   "mimetype": "text/x-python",
   "name": "python",
   "nbconvert_exporter": "python",
   "pygments_lexer": "ipython3",
   "version": "3.9.7"
  }
 },
 "nbformat": 4,
 "nbformat_minor": 5
}
