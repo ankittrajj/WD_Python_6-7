{
 "cells": [
  {
   "cell_type": "code",
   "execution_count": 8,
   "id": "aebfc964",
   "metadata": {},
   "outputs": [
    {
     "name": "stdout",
     "output_type": "stream",
     "text": [
      "name age\n"
     ]
    }
   ],
   "source": [
    "# object oriented prog. structure\n",
    "\n",
    "# object -----> real world entity.\n",
    "\n",
    "# class\n",
    "class student:\n",
    "    def detail(self):\n",
    "        print('name','age')\n",
    "    \n",
    "        \n",
    "s = student()\n",
    "s.detail()\n"
   ]
  },
  {
   "cell_type": "code",
   "execution_count": 10,
   "id": "410a4b52",
   "metadata": {},
   "outputs": [
    {
     "name": "stdout",
     "output_type": "stream",
     "text": [
      "Name is  a Age is 12\n"
     ]
    }
   ],
   "source": [
    "class student:\n",
    "    def detail(self,name,age):\n",
    "        print(\"Name is \",name,\"Age is\",age)\n",
    "#         print(age)\n",
    "        \n",
    "    \n",
    "        \n",
    "s = student()\n",
    "s.detail('a',12)"
   ]
  },
  {
   "cell_type": "code",
   "execution_count": null,
   "id": "1ab2dad7",
   "metadata": {},
   "outputs": [],
   "source": []
  }
 ],
 "metadata": {
  "kernelspec": {
   "display_name": "Python 3 (ipykernel)",
   "language": "python",
   "name": "python3"
  },
  "language_info": {
   "codemirror_mode": {
    "name": "ipython",
    "version": 3
   },
   "file_extension": ".py",
   "mimetype": "text/x-python",
   "name": "python",
   "nbconvert_exporter": "python",
   "pygments_lexer": "ipython3",
   "version": "3.9.7"
  }
 },
 "nbformat": 4,
 "nbformat_minor": 5
}
