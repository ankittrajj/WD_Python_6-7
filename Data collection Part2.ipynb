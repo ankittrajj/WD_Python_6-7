{
 "cells": [
  {
   "cell_type": "code",
   "execution_count": 12,
   "id": "6856446c",
   "metadata": {},
   "outputs": [
    {
     "name": "stdout",
     "output_type": "stream",
     "text": [
      "B -----> lived\n",
      "NOt P \n"
     ]
    }
   ],
   "source": [
    "#palindrome\n",
    "a='devil'\n",
    "b= ''\n",
    "for i in a:\n",
    "#     print(\"I----->\",i)\n",
    "    b=i+b\n",
    "print(\"B ----->\",b)\n",
    "if a==b:\n",
    "    print(\"Palindrome\")\n",
    "else:\n",
    "    print('Not P ')\n",
    "    "
   ]
  },
  {
   "cell_type": "code",
   "execution_count": 8,
   "id": "5c88eb52",
   "metadata": {},
   "outputs": [
    {
     "name": "stdout",
     "output_type": "stream",
     "text": [
      "xyzxyzxyz\n"
     ]
    }
   ],
   "source": [
    "b='xyz'\n",
    "i=''\n",
    "for x in b:\n",
    "    i = i+b\n",
    "print(i)"
   ]
  },
  {
   "cell_type": "code",
   "execution_count": 13,
   "id": "f1c7dbde",
   "metadata": {},
   "outputs": [],
   "source": [
    "a = [89,67,45,90,99,23,67,1,-9,34]\n",
    "a.sort()"
   ]
  },
  {
   "cell_type": "code",
   "execution_count": 14,
   "id": "d89636cc",
   "metadata": {},
   "outputs": [
    {
     "data": {
      "text/plain": [
       "[-9, 1, 23, 34, 45, 67, 67, 89, 90, 99]"
      ]
     },
     "execution_count": 14,
     "metadata": {},
     "output_type": "execute_result"
    }
   ],
   "source": [
    "a"
   ]
  },
  {
   "cell_type": "code",
   "execution_count": 15,
   "id": "5e99d2bf",
   "metadata": {},
   "outputs": [],
   "source": [
    "a = [89,67,45,90,99,23,67,1,-9,34]\n",
    "a.sort(reverse=True)"
   ]
  },
  {
   "cell_type": "code",
   "execution_count": 16,
   "id": "c87cd3e8",
   "metadata": {},
   "outputs": [
    {
     "data": {
      "text/plain": [
       "[99, 90, 89, 67, 67, 45, 34, 23, 1, -9]"
      ]
     },
     "execution_count": 16,
     "metadata": {},
     "output_type": "execute_result"
    }
   ],
   "source": [
    "a"
   ]
  },
  {
   "cell_type": "code",
   "execution_count": 17,
   "id": "a23391d5",
   "metadata": {},
   "outputs": [],
   "source": [
    "# reverse\n",
    "a = [89,67,45,90,99,23,67,1,-9,34]\n",
    "a.reverse()\n"
   ]
  },
  {
   "cell_type": "code",
   "execution_count": 18,
   "id": "0830ab79",
   "metadata": {},
   "outputs": [
    {
     "data": {
      "text/plain": [
       "[34, -9, 1, 67, 23, 99, 90, 45, 67, 89]"
      ]
     },
     "execution_count": 18,
     "metadata": {},
     "output_type": "execute_result"
    }
   ],
   "source": [
    "a"
   ]
  },
  {
   "cell_type": "code",
   "execution_count": 20,
   "id": "f0044ed4",
   "metadata": {},
   "outputs": [],
   "source": [
    "# append\n",
    "a = [89,67,45,90,99,23,67,1,-9,34]\n",
    "a.append(100)\n"
   ]
  },
  {
   "cell_type": "code",
   "execution_count": 21,
   "id": "ad3a26df",
   "metadata": {},
   "outputs": [
    {
     "data": {
      "text/plain": [
       "[89, 67, 45, 90, 99, 23, 67, 1, -9, 34, 100]"
      ]
     },
     "execution_count": 21,
     "metadata": {},
     "output_type": "execute_result"
    }
   ],
   "source": [
    "a"
   ]
  },
  {
   "cell_type": "code",
   "execution_count": 23,
   "id": "b7e05ac1",
   "metadata": {},
   "outputs": [],
   "source": [
    "#insert\n",
    "x = [89, 67, 45, 90, 99, 23, 67, 1, -9, 34, 100]\n",
    "x.insert(0,44)"
   ]
  },
  {
   "cell_type": "code",
   "execution_count": 24,
   "id": "e5a0f69f",
   "metadata": {},
   "outputs": [
    {
     "data": {
      "text/plain": [
       "[44, 89, 67, 45, 90, 99, 23, 67, 1, -9, 34, 100]"
      ]
     },
     "execution_count": 24,
     "metadata": {},
     "output_type": "execute_result"
    }
   ],
   "source": [
    "x"
   ]
  },
  {
   "cell_type": "code",
   "execution_count": 25,
   "id": "d5668830",
   "metadata": {},
   "outputs": [],
   "source": [
    "x.insert(5,28)"
   ]
  },
  {
   "cell_type": "code",
   "execution_count": 26,
   "id": "ae4293bb",
   "metadata": {},
   "outputs": [
    {
     "data": {
      "text/plain": [
       "[44, 89, 67, 45, 90, 28, 99, 23, 67, 1, -9, 34, 100]"
      ]
     },
     "execution_count": 26,
     "metadata": {},
     "output_type": "execute_result"
    }
   ],
   "source": [
    "x"
   ]
  },
  {
   "cell_type": "code",
   "execution_count": 35,
   "id": "331bdd3e",
   "metadata": {},
   "outputs": [],
   "source": [
    "#pop,remove\n",
    "s = [44, 89, 67, 45, 90, 28, 99, 23, 67, 1, -9, 34, 100]"
   ]
  },
  {
   "cell_type": "code",
   "execution_count": 36,
   "id": "841f2e71",
   "metadata": {},
   "outputs": [
    {
     "data": {
      "text/plain": [
       "44"
      ]
     },
     "execution_count": 36,
     "metadata": {},
     "output_type": "execute_result"
    }
   ],
   "source": [
    "s.pop(0)"
   ]
  },
  {
   "cell_type": "code",
   "execution_count": 37,
   "id": "2311133f",
   "metadata": {},
   "outputs": [
    {
     "data": {
      "text/plain": [
       "[89, 67, 45, 90, 28, 99, 23, 67, 1, -9, 34, 100]"
      ]
     },
     "execution_count": 37,
     "metadata": {},
     "output_type": "execute_result"
    }
   ],
   "source": [
    "s"
   ]
  },
  {
   "cell_type": "code",
   "execution_count": 30,
   "id": "eec1e489",
   "metadata": {},
   "outputs": [
    {
     "data": {
      "text/plain": [
       "[44, 89, 67, 45, 90, 28, 99, 23, 67, 1, -9, 34]"
      ]
     },
     "execution_count": 30,
     "metadata": {},
     "output_type": "execute_result"
    }
   ],
   "source": [
    "#remove\n",
    "s"
   ]
  },
  {
   "cell_type": "code",
   "execution_count": 33,
   "id": "669d028f",
   "metadata": {},
   "outputs": [],
   "source": [
    "s.remove(-9)"
   ]
  },
  {
   "cell_type": "code",
   "execution_count": 34,
   "id": "8e0a3c30",
   "metadata": {},
   "outputs": [
    {
     "data": {
      "text/plain": [
       "[44, 89, 67, 45, 90, 28, 99, 23, 67, 1, 34]"
      ]
     },
     "execution_count": 34,
     "metadata": {},
     "output_type": "execute_result"
    }
   ],
   "source": [
    "s"
   ]
  },
  {
   "cell_type": "markdown",
   "id": "34004306",
   "metadata": {},
   "source": [
    "# Tuple"
   ]
  },
  {
   "cell_type": "code",
   "execution_count": 38,
   "id": "6bb993a7",
   "metadata": {},
   "outputs": [
    {
     "data": {
      "text/plain": [
       "(34, 56, 78, 90)"
      ]
     },
     "execution_count": 38,
     "metadata": {},
     "output_type": "execute_result"
    }
   ],
   "source": [
    "# how to create a tuple\n",
    "a = (34,56,78,90)\n",
    "a"
   ]
  },
  {
   "cell_type": "code",
   "execution_count": 39,
   "id": "c126b06c",
   "metadata": {},
   "outputs": [
    {
     "data": {
      "text/plain": [
       "tuple"
      ]
     },
     "execution_count": 39,
     "metadata": {},
     "output_type": "execute_result"
    }
   ],
   "source": [
    "type(a)"
   ]
  },
  {
   "cell_type": "code",
   "execution_count": 40,
   "id": "097f46dd",
   "metadata": {},
   "outputs": [
    {
     "data": {
      "text/plain": [
       "('ram', 'abc', 'def', '123')"
      ]
     },
     "execution_count": 40,
     "metadata": {},
     "output_type": "execute_result"
    }
   ],
   "source": [
    "a = ('ram','abc','def','123')\n",
    "a"
   ]
  },
  {
   "cell_type": "code",
   "execution_count": 41,
   "id": "6a52f0d6",
   "metadata": {},
   "outputs": [
    {
     "data": {
      "text/plain": [
       "tuple"
      ]
     },
     "execution_count": 41,
     "metadata": {},
     "output_type": "execute_result"
    }
   ],
   "source": [
    "type(a)"
   ]
  },
  {
   "cell_type": "code",
   "execution_count": 44,
   "id": "7b0e2a36",
   "metadata": {},
   "outputs": [
    {
     "data": {
      "text/plain": [
       "(12, 34, 56, 'ram', 'abc', 'def', '123', 78.9, 45.8, True, 12, 34)"
      ]
     },
     "execution_count": 44,
     "metadata": {},
     "output_type": "execute_result"
    }
   ],
   "source": [
    "x= (12,34,56,'ram','abc','def','123',78.90,45.8,True,12,34)\n",
    "x"
   ]
  },
  {
   "cell_type": "code",
   "execution_count": 45,
   "id": "5273b7f6",
   "metadata": {},
   "outputs": [
    {
     "data": {
      "text/plain": [
       "tuple"
      ]
     },
     "execution_count": 45,
     "metadata": {},
     "output_type": "execute_result"
    }
   ],
   "source": [
    "type(x)"
   ]
  },
  {
   "cell_type": "code",
   "execution_count": 46,
   "id": "c213c434",
   "metadata": {},
   "outputs": [
    {
     "data": {
      "text/plain": [
       "(12, 34, 56, 'ram', 'abc', 'def', '123', 78.9, 45.8, True, 12, 34)"
      ]
     },
     "execution_count": 46,
     "metadata": {},
     "output_type": "execute_result"
    }
   ],
   "source": [
    "#slicing   indexing\n",
    "x"
   ]
  },
  {
   "cell_type": "code",
   "execution_count": 48,
   "id": "382f7352",
   "metadata": {},
   "outputs": [
    {
     "data": {
      "text/plain": [
       "12"
      ]
     },
     "execution_count": 48,
     "metadata": {},
     "output_type": "execute_result"
    }
   ],
   "source": [
    "x[0]"
   ]
  },
  {
   "cell_type": "code",
   "execution_count": 49,
   "id": "6a5470bd",
   "metadata": {},
   "outputs": [
    {
     "data": {
      "text/plain": [
       "(12, 34, 56, 'ram', 'abc')"
      ]
     },
     "execution_count": 49,
     "metadata": {},
     "output_type": "execute_result"
    }
   ],
   "source": [
    "x[0:5]"
   ]
  },
  {
   "cell_type": "code",
   "execution_count": 51,
   "id": "94638090",
   "metadata": {},
   "outputs": [
    {
     "ename": "TypeError",
     "evalue": "'tuple' object does not support item assignment",
     "output_type": "error",
     "traceback": [
      "\u001b[1;31m---------------------------------------------------------------------------\u001b[0m",
      "\u001b[1;31mTypeError\u001b[0m                                 Traceback (most recent call last)",
      "\u001b[1;32m~\\AppData\\Local\\Temp/ipykernel_5452/1154659003.py\u001b[0m in \u001b[0;36m<module>\u001b[1;34m\u001b[0m\n\u001b[0;32m      1\u001b[0m \u001b[1;31m#mutable or not?\u001b[0m\u001b[1;33m\u001b[0m\u001b[1;33m\u001b[0m\u001b[0m\n\u001b[1;32m----> 2\u001b[1;33m \u001b[0mx\u001b[0m\u001b[1;33m[\u001b[0m\u001b[1;36m0\u001b[0m\u001b[1;33m]\u001b[0m\u001b[1;33m=\u001b[0m\u001b[1;36m100\u001b[0m\u001b[1;33m\u001b[0m\u001b[1;33m\u001b[0m\u001b[0m\n\u001b[0m",
      "\u001b[1;31mTypeError\u001b[0m: 'tuple' object does not support item assignment"
     ]
    }
   ],
   "source": [
    "#mutable or not?\n",
    "x[0]=100"
   ]
  },
  {
   "cell_type": "code",
   "execution_count": null,
   "id": "720d2d44",
   "metadata": {},
   "outputs": [],
   "source": []
  }
 ],
 "metadata": {
  "kernelspec": {
   "display_name": "Python 3 (ipykernel)",
   "language": "python",
   "name": "python3"
  },
  "language_info": {
   "codemirror_mode": {
    "name": "ipython",
    "version": 3
   },
   "file_extension": ".py",
   "mimetype": "text/x-python",
   "name": "python",
   "nbconvert_exporter": "python",
   "pygments_lexer": "ipython3",
   "version": "3.9.7"
  }
 },
 "nbformat": 4,
 "nbformat_minor": 5
}
