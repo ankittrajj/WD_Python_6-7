{
 "cells": [
  {
   "cell_type": "code",
   "execution_count": 11,
   "id": "b642ca9c",
   "metadata": {},
   "outputs": [
    {
     "name": "stdout",
     "output_type": "stream",
     "text": [
      "Enter the age18\n",
      "you are 18 years old\n"
     ]
    }
   ],
   "source": [
    "#condition\n",
    "#if / else/elif\n",
    "#sytanx\n",
    "# if condition:\n",
    "#     print(\"Msg\")\n",
    "# else:\n",
    "#     print(\"Msg\")\n",
    "\n",
    "age = int(input(\"Enter the age\"))\n",
    "if age>18:\n",
    "    print('Adult')\n",
    "elif age==18:\n",
    "    print(\"you are 18 years old\")\n",
    "else:\n",
    "    print('Child')"
   ]
  },
  {
   "cell_type": "code",
   "execution_count": 14,
   "id": "b6e174bb",
   "metadata": {},
   "outputs": [
    {
     "name": "stdout",
     "output_type": "stream",
     "text": [
      "Enter the first number1\n",
      "Enter the second number45\n",
      "Enter the third number9\n",
      "B\n"
     ]
    }
   ],
   "source": [
    "#wap to find max. & min number out of 3 numbers.\n",
    "a=int(input(\"Enter the first number\"))\n",
    "b=int(input(\"Enter the second number\"))\n",
    "c=int(input(\"Enter the third number\"))\n",
    "if a>b and a>c:\n",
    "    print('A')\n",
    "elif b>a and b>c:\n",
    "    print('B')\n",
    "elif c>a and c>b:\n",
    "    print('C')\n",
    "else:\n",
    "    print(\"invalid input\")\n",
    "    \n",
    "    "
   ]
  },
  {
   "cell_type": "code",
   "execution_count": 16,
   "id": "b2c3af8e",
   "metadata": {},
   "outputs": [
    {
     "name": "stdout",
     "output_type": "stream",
     "text": [
      "NO bonus \n"
     ]
    }
   ],
   "source": [
    "# year_of_service\n",
    "# yearOfService\n",
    "salary=5000\n",
    "year_of_service=3\n",
    "if year_of_service>=5:\n",
    "    bonus=salary*(5/100) \n",
    "    print(\"bonus recv\", bonus) \n",
    "else:\n",
    "    print(\"NO bonus \") "
   ]
  },
  {
   "cell_type": "code",
   "execution_count": 17,
   "id": "f9d806d1",
   "metadata": {},
   "outputs": [
    {
     "name": "stdout",
     "output_type": "stream",
     "text": [
      "c\n"
     ]
    }
   ],
   "source": [
    "a=4\n",
    "b=5\n",
    "c=6\n",
    "if a>b and a>c:\n",
    "    print('a')\n",
    "elif b>a and b>c:\n",
    "    print('b')\n",
    "elif c>a and c>b:\n",
    "    print('c')\n",
    "else:\n",
    "    print(\"invalid output\")\n"
   ]
  },
  {
   "cell_type": "code",
   "execution_count": 18,
   "id": "8c5cf5d2",
   "metadata": {},
   "outputs": [
    {
     "name": "stdout",
     "output_type": "stream",
     "text": [
      "enter the salary1000\n",
      "bonus will be given\n"
     ]
    }
   ],
   "source": [
    "salary=int(input('enter the salary'))\n",
    "years=5 \n",
    "if years>=5:\n",
    "    bonus=salary*(0.05)\n",
    "    print('bonus will be given')\n",
    "else:\n",
    "    print('not be given')"
   ]
  },
  {
   "cell_type": "code",
   "execution_count": 22,
   "id": "7e4a1514",
   "metadata": {},
   "outputs": [
    {
     "name": "stdout",
     "output_type": "stream",
     "text": [
      "Enter the salary1200\n",
      "Enter the year of service7\n",
      "Bonus amount will be-----> 60.0\n"
     ]
    }
   ],
   "source": [
    "salary = int(input(\"Enter the salary\"))\n",
    "years = int(input('Enter the year of service'))\n",
    "if years>5:\n",
    "    bonus = salary*5/100\n",
    "    print(\"Bonus amount will be----->\",bonus)\n",
    "else:\n",
    "    print('No bonus')"
   ]
  },
  {
   "cell_type": "code",
   "execution_count": null,
   "id": "1ac6a70f",
   "metadata": {},
   "outputs": [],
   "source": []
  }
 ],
 "metadata": {
  "kernelspec": {
   "display_name": "Python 3 (ipykernel)",
   "language": "python",
   "name": "python3"
  },
  "language_info": {
   "codemirror_mode": {
    "name": "ipython",
    "version": 3
   },
   "file_extension": ".py",
   "mimetype": "text/x-python",
   "name": "python",
   "nbconvert_exporter": "python",
   "pygments_lexer": "ipython3",
   "version": "3.9.7"
  }
 },
 "nbformat": 4,
 "nbformat_minor": 5
}
