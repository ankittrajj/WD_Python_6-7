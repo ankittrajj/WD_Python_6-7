{
 "cells": [
  {
   "cell_type": "code",
   "execution_count": 1,
   "id": "10d407cc",
   "metadata": {},
   "outputs": [
    {
     "data": {
      "text/plain": [
       "'A'"
      ]
     },
     "execution_count": 1,
     "metadata": {},
     "output_type": "execute_result"
    }
   ],
   "source": [
    "#multilevel inheritance \n",
    "\n",
    "class gpc:\n",
    "    def __init__(self,name):\n",
    "        self.name = name\n",
    "        \n",
    "class pc(gpc):\n",
    "    def __init__(self,name,age):\n",
    "        super().__init__(name)\n",
    "        self.age=age\n",
    "        \n",
    "class cc(pc):\n",
    "    def __init__(self,name,age,marks):\n",
    "        super().__init__(name,age)\n",
    "        self.marks=marks\n",
    "        \n",
    "x = cc('A',34,56)\n",
    "x.name\n",
    "        \n",
    "        "
   ]
  },
  {
   "cell_type": "code",
   "execution_count": 2,
   "id": "23bc2d07",
   "metadata": {},
   "outputs": [
    {
     "data": {
      "text/plain": [
       "'s'"
      ]
     },
     "execution_count": 2,
     "metadata": {},
     "output_type": "execute_result"
    }
   ],
   "source": [
    "p = pc('s',12)\n",
    "p.name"
   ]
  },
  {
   "cell_type": "code",
   "execution_count": 3,
   "id": "0f4861f2",
   "metadata": {},
   "outputs": [
    {
     "data": {
      "text/plain": [
       "12"
      ]
     },
     "execution_count": 3,
     "metadata": {},
     "output_type": "execute_result"
    }
   ],
   "source": [
    "p.age"
   ]
  },
  {
   "cell_type": "code",
   "execution_count": 4,
   "id": "c53822bb",
   "metadata": {},
   "outputs": [
    {
     "ename": "AttributeError",
     "evalue": "'pc' object has no attribute 'marks'",
     "output_type": "error",
     "traceback": [
      "\u001b[1;31m---------------------------------------------------------------------------\u001b[0m",
      "\u001b[1;31mAttributeError\u001b[0m                            Traceback (most recent call last)",
      "\u001b[1;32m~\\AppData\\Local\\Temp/ipykernel_7172/2709185075.py\u001b[0m in \u001b[0;36m<module>\u001b[1;34m\u001b[0m\n\u001b[1;32m----> 1\u001b[1;33m \u001b[0mp\u001b[0m\u001b[1;33m.\u001b[0m\u001b[0mmarks\u001b[0m\u001b[1;33m\u001b[0m\u001b[1;33m\u001b[0m\u001b[0m\n\u001b[0m",
      "\u001b[1;31mAttributeError\u001b[0m: 'pc' object has no attribute 'marks'"
     ]
    }
   ],
   "source": [
    "p.marks"
   ]
  },
  {
   "cell_type": "code",
   "execution_count": 6,
   "id": "7eb36fe5",
   "metadata": {},
   "outputs": [
    {
     "data": {
      "text/plain": [
       "'A'"
      ]
     },
     "execution_count": 6,
     "metadata": {},
     "output_type": "execute_result"
    }
   ],
   "source": [
    "#multilevel inheritance \n",
    "\n",
    "class gpc:\n",
    "    def __init__(self,name):\n",
    "        self.name = name\n",
    "        \n",
    "class pc(gpc):\n",
    "    def __init__(self,name,age):\n",
    "        super().__init__(name)\n",
    "        self.age=age\n",
    "        \n",
    "class cc(gpc):\n",
    "    def __init__(self,name,marks):\n",
    "        super().__init__(name)\n",
    "        self.marks=marks\n",
    "        \n",
    "x = cc('A',34)\n",
    "x.name\n",
    "        \n",
    "        "
   ]
  },
  {
   "cell_type": "code",
   "execution_count": 7,
   "id": "8d712e7a",
   "metadata": {},
   "outputs": [
    {
     "data": {
      "text/plain": [
       "34"
      ]
     },
     "execution_count": 7,
     "metadata": {},
     "output_type": "execute_result"
    }
   ],
   "source": [
    "x.marks"
   ]
  },
  {
   "cell_type": "code",
   "execution_count": 16,
   "id": "51ddd825",
   "metadata": {},
   "outputs": [
    {
     "name": "stdout",
     "output_type": "stream",
     "text": [
      "18\n"
     ]
    }
   ],
   "source": [
    "#encapsulation-----> hide the data from user.\n",
    "# Access modifiers----> public n private.\n",
    "\n",
    "class a:\n",
    "    def fun(self):\n",
    "        __a=9\n",
    "        b=1\n",
    "        r = a+b\n",
    "        print(r)\n",
    "        \n",
    "    def __fun1(self):\n",
    "        a=9\n",
    "        b=1\n",
    "        r = a-b\n",
    "        print(r)\n",
    "        \n",
    "    def fun2(self):\n",
    "        _a=9\n",
    "        b=2\n",
    "        r = _a*b\n",
    "        print(r)\n",
    "        \n",
    "x = a()\n",
    "x.fun2()"
   ]
  },
  {
   "cell_type": "code",
   "execution_count": 23,
   "id": "6f5efc95",
   "metadata": {},
   "outputs": [
    {
     "name": "stdout",
     "output_type": "stream",
     "text": [
      "11\n"
     ]
    }
   ],
   "source": [
    "class me:\n",
    "    def _fun(self):\n",
    "            a=9\n",
    "            b=2\n",
    "            r = a+b\n",
    "            print(r)\n",
    "m = me()\n",
    "m._fun()"
   ]
  },
  {
   "cell_type": "code",
   "execution_count": null,
   "id": "244c3d7a",
   "metadata": {},
   "outputs": [],
   "source": []
  }
 ],
 "metadata": {
  "kernelspec": {
   "display_name": "Python 3 (ipykernel)",
   "language": "python",
   "name": "python3"
  },
  "language_info": {
   "codemirror_mode": {
    "name": "ipython",
    "version": 3
   },
   "file_extension": ".py",
   "mimetype": "text/x-python",
   "name": "python",
   "nbconvert_exporter": "python",
   "pygments_lexer": "ipython3",
   "version": "3.9.7"
  }
 },
 "nbformat": 4,
 "nbformat_minor": 5
}
