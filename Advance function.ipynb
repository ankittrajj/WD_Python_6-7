{
 "cells": [
  {
   "cell_type": "code",
   "execution_count": 1,
   "id": "fa8cc2c1",
   "metadata": {},
   "outputs": [
    {
     "data": {
      "text/plain": [
       "3"
      ]
     },
     "execution_count": 1,
     "metadata": {},
     "output_type": "execute_result"
    }
   ],
   "source": [
    "#lambda\n",
    "# filter\n",
    "# map\n",
    "# reduce\n",
    "\n",
    "def fun(a,b):\n",
    "    result = a+b\n",
    "    return result\n",
    "\n",
    "fun(1,2)"
   ]
  },
  {
   "cell_type": "code",
   "execution_count": 2,
   "id": "a2dae7b0",
   "metadata": {},
   "outputs": [
    {
     "data": {
      "text/plain": [
       "3"
      ]
     },
     "execution_count": 2,
     "metadata": {},
     "output_type": "execute_result"
    }
   ],
   "source": [
    "#lambda function ----- > one liner function, anonymous function.\n",
    "# cannot perform more than one operation\n",
    "# you can define n no. of argumants.\n",
    "# +,-,*,/\n",
    "# a+b\n",
    "# (a+b-c),\n",
    "\n",
    "#add two numbers with lambda function.\n",
    "\n",
    "a = lambda  x,y:x+y\n",
    "a(1,2)\n",
    "\n"
   ]
  },
  {
   "cell_type": "code",
   "execution_count": 3,
   "id": "59f1696a",
   "metadata": {},
   "outputs": [
    {
     "data": {
      "text/plain": [
       "4"
      ]
     },
     "execution_count": 3,
     "metadata": {},
     "output_type": "execute_result"
    }
   ],
   "source": [
    "#WAP TO find the sum of 3 number using lambda function.\n",
    "\n",
    "# wap to find the output of a+b-c*d/e+f.\n",
    "\n",
    "#wap to find avg of 5 number.\n",
    "\n",
    "#wap to find odd even number.\n",
    "\n",
    "a = lambda x: x if x%2==0 else False\n",
    "a(4)"
   ]
  },
  {
   "cell_type": "code",
   "execution_count": 4,
   "id": "cd21b094",
   "metadata": {},
   "outputs": [
    {
     "ename": "SyntaxError",
     "evalue": "invalid syntax (Temp/ipykernel_9092/1521503400.py, line 4)",
     "output_type": "error",
     "traceback": [
      "\u001b[1;36m  File \u001b[1;32m\"C:\\Users\\ddugky\\AppData\\Local\\Temp/ipykernel_9092/1521503400.py\"\u001b[1;36m, line \u001b[1;32m4\u001b[0m\n\u001b[1;33m    z = filter (lambda x:a if a>30,a)\u001b[0m\n\u001b[1;37m                                  ^\u001b[0m\n\u001b[1;31mSyntaxError\u001b[0m\u001b[1;31m:\u001b[0m invalid syntax\n"
     ]
    }
   ],
   "source": [
    "#filter function----> filter out the data.\n",
    "\n",
    "a = [34,56,78,90,23,12,11,23,34]\n",
    "z = filter (lambda x:a if a>30,a)\n",
    "z"
   ]
  },
  {
   "cell_type": "code",
   "execution_count": 6,
   "id": "f8ac32f5",
   "metadata": {},
   "outputs": [
    {
     "data": {
      "text/plain": [
       "[34, 56, 78, 90, 34]"
      ]
     },
     "execution_count": 6,
     "metadata": {},
     "output_type": "execute_result"
    }
   ],
   "source": [
    "a = [34,56,78,90,23,12,11,23,34]\n",
    "def func(a):\n",
    "    if a>30:\n",
    "        return True\n",
    "    else:\n",
    "        return False\n",
    "# filter\n",
    "# func()\n",
    "\n",
    "list(filter(func,a))"
   ]
  },
  {
   "cell_type": "code",
   "execution_count": 8,
   "id": "cf12ff4d",
   "metadata": {},
   "outputs": [
    {
     "data": {
      "text/plain": [
       "(34, 56, 78, 90, 34)"
      ]
     },
     "execution_count": 8,
     "metadata": {},
     "output_type": "execute_result"
    }
   ],
   "source": [
    "#lambda with filter\n",
    "a = [34,56,78,90,23,12,11,23,34]\n",
    "tuple(filter(lambda x:x>30,a))\n"
   ]
  },
  {
   "cell_type": "code",
   "execution_count": 9,
   "id": "2732bd28",
   "metadata": {},
   "outputs": [
    {
     "data": {
      "text/plain": [
       "(34, 56, 78, 90, 34)"
      ]
     },
     "execution_count": 9,
     "metadata": {},
     "output_type": "execute_result"
    }
   ],
   "source": [
    "a = [34,56,78,90,23,12,11,23,34]\n",
    "c = tuple(filter(lambda x:x>30,a))\n",
    "c"
   ]
  },
  {
   "cell_type": "code",
   "execution_count": null,
   "id": "d64d34ad",
   "metadata": {},
   "outputs": [],
   "source": [
    "#wap to filter out data where number is more than 20 with \n",
    "# both normal & lambda function.\n",
    "# data = [23,45,89,23,-9,0,5,12,2,13,11,7,5]\n",
    "\n",
    "# WAP and try out to filter the age data of senior\n",
    "# citizen with both lambda & normal function.\n",
    "# data = [34,56,90,78,56,45,89,62,12,33]."
   ]
  }
 ],
 "metadata": {
  "kernelspec": {
   "display_name": "Python 3 (ipykernel)",
   "language": "python",
   "name": "python3"
  },
  "language_info": {
   "codemirror_mode": {
    "name": "ipython",
    "version": 3
   },
   "file_extension": ".py",
   "mimetype": "text/x-python",
   "name": "python",
   "nbconvert_exporter": "python",
   "pygments_lexer": "ipython3",
   "version": "3.9.7"
  }
 },
 "nbformat": 4,
 "nbformat_minor": 5
}
